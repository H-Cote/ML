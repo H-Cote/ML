{
 "cells": [
  {
   "cell_type": "markdown",
   "id": "3fa33e03-8625-4b22-9ab7-19dd0c8e51a3",
   "metadata": {},
   "source": [
    "### Data Cleaning "
   ]
  },
  {
   "cell_type": "code",
   "execution_count": 1,
   "id": "b3abcbb9-a493-4fb5-988b-bf8f6b5e5cb3",
   "metadata": {},
   "outputs": [],
   "source": [
    "import numpy as np\n",
    "import pandas as pd\n",
    "import ast"
   ]
  },
  {
   "cell_type": "code",
   "execution_count": 2,
   "id": "35a015fb-4525-4a87-878c-624cfa99f349",
   "metadata": {},
   "outputs": [],
   "source": [
    "df=pd.read_csv(\"deptos_mercado_libre_full.csv\", index_col=0)"
   ]
  },
  {
   "cell_type": "code",
   "execution_count": 3,
   "id": "5fd4ad3f-4be9-48f0-a6e4-203a656f6490",
   "metadata": {},
   "outputs": [
    {
     "data": {
      "text/html": [
       "<div>\n",
       "<style scoped>\n",
       "    .dataframe tbody tr th:only-of-type {\n",
       "        vertical-align: middle;\n",
       "    }\n",
       "\n",
       "    .dataframe tbody tr th {\n",
       "        vertical-align: top;\n",
       "    }\n",
       "\n",
       "    .dataframe thead th {\n",
       "        text-align: right;\n",
       "    }\n",
       "</style>\n",
       "<table border=\"1\" class=\"dataframe\">\n",
       "  <thead>\n",
       "    <tr style=\"text-align: right;\">\n",
       "      <th></th>\n",
       "      <th>titulos</th>\n",
       "      <th>superficie</th>\n",
       "      <th>recamaras</th>\n",
       "      <th>precio</th>\n",
       "      <th>ubicacion</th>\n",
       "      <th>imagen</th>\n",
       "    </tr>\n",
       "  </thead>\n",
       "  <tbody>\n",
       "    <tr>\n",
       "      <th>0</th>\n",
       "      <td>Súper Ubicado, Moderno, Metrobús, Escuelas, Ho...</td>\n",
       "      <td>119 m² construidos</td>\n",
       "      <td>3 recs.</td>\n",
       "      <td>20000.0</td>\n",
       "      <td>['Gabriel Mancera', 'Del Valle Norte', 'Benito...</td>\n",
       "      <td>https://http2.mlstatic.com/D_NQ_NP_866287-MLM4...</td>\n",
       "    </tr>\n",
       "    <tr>\n",
       "      <th>1</th>\n",
       "      <td>Departamento Amueblado En Zakia Residencial, Q...</td>\n",
       "      <td>120 m² construidos</td>\n",
       "      <td>3 recs.</td>\n",
       "      <td>14800.0</td>\n",
       "      <td>['Paseo De Zinnia 201', 'Zákia', 'El Marqués',...</td>\n",
       "      <td>https://http2.mlstatic.com/D_NQ_NP_693487-MLM4...</td>\n",
       "    </tr>\n",
       "    <tr>\n",
       "      <th>2</th>\n",
       "      <td>Hermoso Departamento En Renta Amueblado En  Ag...</td>\n",
       "      <td>73 m² construidos</td>\n",
       "      <td>2 recs.</td>\n",
       "      <td>27000.0</td>\n",
       "      <td>['Av. Insurgentes Sur', 'Loreto', 'Alvaro Obre...</td>\n",
       "      <td>https://http2.mlstatic.com/D_NQ_NP_891309-MLM4...</td>\n",
       "    </tr>\n",
       "  </tbody>\n",
       "</table>\n",
       "</div>"
      ],
      "text/plain": [
       "                                             titulos          superficie  \\\n",
       "0  Súper Ubicado, Moderno, Metrobús, Escuelas, Ho...  119 m² construidos   \n",
       "1  Departamento Amueblado En Zakia Residencial, Q...  120 m² construidos   \n",
       "2  Hermoso Departamento En Renta Amueblado En  Ag...   73 m² construidos   \n",
       "\n",
       "  recamaras   precio                                          ubicacion  \\\n",
       "0   3 recs.  20000.0  ['Gabriel Mancera', 'Del Valle Norte', 'Benito...   \n",
       "1   3 recs.  14800.0  ['Paseo De Zinnia 201', 'Zákia', 'El Marqués',...   \n",
       "2   2 recs.  27000.0  ['Av. Insurgentes Sur', 'Loreto', 'Alvaro Obre...   \n",
       "\n",
       "                                              imagen  \n",
       "0  https://http2.mlstatic.com/D_NQ_NP_866287-MLM4...  \n",
       "1  https://http2.mlstatic.com/D_NQ_NP_693487-MLM4...  \n",
       "2  https://http2.mlstatic.com/D_NQ_NP_891309-MLM4...  "
      ]
     },
     "execution_count": 3,
     "metadata": {},
     "output_type": "execute_result"
    }
   ],
   "source": [
    "df.head(3)"
   ]
  },
  {
   "cell_type": "code",
   "execution_count": 4,
   "id": "fd7af9de-0593-42e1-a56a-493d39b8861b",
   "metadata": {},
   "outputs": [
    {
     "data": {
      "text/plain": [
       "(1104, 6)"
      ]
     },
     "execution_count": 4,
     "metadata": {},
     "output_type": "execute_result"
    }
   ],
   "source": [
    "df.shape"
   ]
  },
  {
   "cell_type": "code",
   "execution_count": 5,
   "id": "8775dc8c-eeae-44c5-a753-5170c49b3b94",
   "metadata": {},
   "outputs": [
    {
     "data": {
      "text/plain": [
       "\"['Departamento En Renta Sobre Boulevard 5 De Mayo! Increible Vista Panoramica!', 'Huexotitla', 'Puebla']\""
      ]
     },
     "execution_count": 5,
     "metadata": {},
     "output_type": "execute_result"
    }
   ],
   "source": [
    "df[\"ubicacion\"][6]"
   ]
  },
  {
   "cell_type": "code",
   "execution_count": 6,
   "id": "5ec7a366-f0f2-4c1a-8bb0-2df5f47940f8",
   "metadata": {},
   "outputs": [],
   "source": [
    "#df[\"ubicacion\"][6]=ast.literal_eval(df[\"ubicacion\"][6])\n",
    "#df[\"ubicacion\"][6]"
   ]
  },
  {
   "cell_type": "code",
   "execution_count": 7,
   "id": "15fb8c6e-05bd-4317-a96f-f35e5a3b1795",
   "metadata": {},
   "outputs": [
    {
     "name": "stderr",
     "output_type": "stream",
     "text": [
      "/tmp/ipykernel_10172/1645389848.py:2: SettingWithCopyWarning: \n",
      "A value is trying to be set on a copy of a slice from a DataFrame\n",
      "\n",
      "See the caveats in the documentation: https://pandas.pydata.org/pandas-docs/stable/user_guide/indexing.html#returning-a-view-versus-a-copy\n",
      "  df[\"ubicacion\"][i]=ast.literal_eval(df[\"ubicacion\"][i])\n"
     ]
    }
   ],
   "source": [
    "for i in range(len(df[\"ubicacion\"])):\n",
    "    df[\"ubicacion\"][i]=ast.literal_eval(df[\"ubicacion\"][i])   "
   ]
  },
  {
   "cell_type": "code",
   "execution_count": 8,
   "id": "07562b03-3704-4f46-986c-61b83784a5da",
   "metadata": {},
   "outputs": [
    {
     "data": {
      "text/plain": [
       "['Departamento En Renta Sobre Boulevard 5 De Mayo! Increible Vista Panoramica!',\n",
       " 'Huexotitla',\n",
       " 'Puebla']"
      ]
     },
     "execution_count": 8,
     "metadata": {},
     "output_type": "execute_result"
    }
   ],
   "source": [
    "df[\"ubicacion\"][6]"
   ]
  },
  {
   "cell_type": "markdown",
   "id": "d62d7a19-d73a-4d91-bd00-202869cab05e",
   "metadata": {},
   "source": [
    "No todas las direcciones tienen 4 elementos ( calle, colonia, delegación o municipio y estado). Por lo que tenemos dos problemas a resolver; casos con más información y con menos. "
   ]
  },
  {
   "cell_type": "code",
   "execution_count": 9,
   "id": "882c1738-862b-4fb0-86ef-3df46a878615",
   "metadata": {},
   "outputs": [],
   "source": [
    "direccion=df[\"ubicacion\"]"
   ]
  },
  {
   "cell_type": "code",
   "execution_count": 10,
   "id": "7c4666f0-dfd0-43af-83c4-4cf43c3f8ed2",
   "metadata": {},
   "outputs": [
    {
     "name": "stdout",
     "output_type": "stream",
     "text": [
      "Hay 92 direcciones con más información\n"
     ]
    }
   ],
   "source": [
    "j = 0\n",
    "mas_info_indices=[]\n",
    "for i in range(len(direccion)):\n",
    "    if (len(direccion[i]) > 4):\n",
    "        j+=1\n",
    "        \n",
    "        mas_info_indices.append(i)\n",
    "print(\"Hay\",j, \"direcciones con más información\")\n",
    "mas_info_indices;"
   ]
  },
  {
   "cell_type": "code",
   "execution_count": 11,
   "id": "14757d28-c7e6-4eb6-83fc-3aabf4d8b368",
   "metadata": {},
   "outputs": [
    {
     "data": {
      "text/plain": [
       "['Magnolia 56', 'Depto. 3', 'Los Morales', 'Cuautitlán', 'Estado De México']"
      ]
     },
     "execution_count": 11,
     "metadata": {},
     "output_type": "execute_result"
    }
   ],
   "source": [
    "direccion[12]"
   ]
  },
  {
   "cell_type": "code",
   "execution_count": 12,
   "id": "fee75484-d7ef-4426-9ac0-1fb969d6afa1",
   "metadata": {},
   "outputs": [
    {
     "data": {
      "text/plain": [
       "['Av. Emiliano Zapata (eje 7a Sur) 360',\n",
       " 'Departamento 301',\n",
       " 'Torre B',\n",
       " 'Edif. 1',\n",
       " 'Santa Cruz Atoyac',\n",
       " 'Benito Juárez',\n",
       " 'Distrito Federal']"
      ]
     },
     "execution_count": 12,
     "metadata": {},
     "output_type": "execute_result"
    }
   ],
   "source": [
    "direccion[25]"
   ]
  },
  {
   "cell_type": "code",
   "execution_count": 13,
   "id": "61c225dd-8995-4cd7-abac-5b792eb930df",
   "metadata": {},
   "outputs": [
    {
     "name": "stdout",
     "output_type": "stream",
     "text": [
      "Hay 0 direcciones con menos información\n"
     ]
    }
   ],
   "source": [
    "k = 0\n",
    "menos_info_indices=[]\n",
    "for i in range(len(direccion)):\n",
    "    if (len(direccion[i]) < 4):\n",
    "        j+=1\n",
    "        \n",
    "        menos_info_indices.append(i)\n",
    "print(\"Hay\",k, \"direcciones con menos información\")\n",
    "menos_info_indices;"
   ]
  },
  {
   "cell_type": "code",
   "execution_count": 14,
   "id": "a2f2953b-2f72-4d40-9c4e-9f6b7d9d2c0c",
   "metadata": {},
   "outputs": [
    {
     "data": {
      "text/plain": [
       "22.916666666666664"
      ]
     },
     "execution_count": 14,
     "metadata": {},
     "output_type": "execute_result"
    }
   ],
   "source": [
    "(161+92)/len(direccion)*100"
   ]
  },
  {
   "cell_type": "code",
   "execution_count": 15,
   "id": "d57cd384-b825-4543-b582-bf0e838f5492",
   "metadata": {},
   "outputs": [
    {
     "data": {
      "text/plain": [
       "['Departamento En Renta Sobre Boulevard 5 De Mayo! Increible Vista Panoramica!',\n",
       " 'Huexotitla',\n",
       " 'Puebla']"
      ]
     },
     "execution_count": 15,
     "metadata": {},
     "output_type": "execute_result"
    }
   ],
   "source": [
    "direccion[6]"
   ]
  },
  {
   "cell_type": "code",
   "execution_count": 16,
   "id": "513fbc0b-f93d-46f7-a636-c7c7ef6781da",
   "metadata": {},
   "outputs": [
    {
     "data": {
      "text/plain": [
       "['Calzada Manuel Villalongin 213 Int. 205', 'Cuauhtémoc', 'Distrito Federal']"
      ]
     },
     "execution_count": 16,
     "metadata": {},
     "output_type": "execute_result"
    }
   ],
   "source": [
    "direccion[27]"
   ]
  },
  {
   "cell_type": "markdown",
   "id": "35e80cea-8b12-4130-9aef-b63bf50f8878",
   "metadata": {},
   "source": [
    "Podemos seleccionar una calle o una colonia de la siguiente forma:"
   ]
  },
  {
   "cell_type": "code",
   "execution_count": 17,
   "id": "46dd18a1-b471-45e9-9583-fd69777ea15e",
   "metadata": {},
   "outputs": [
    {
     "data": {
      "text/plain": [
       "'Gabriel Mancera'"
      ]
     },
     "execution_count": 17,
     "metadata": {},
     "output_type": "execute_result"
    }
   ],
   "source": [
    "# Calle\n",
    "direccion[0][0]"
   ]
  },
  {
   "cell_type": "code",
   "execution_count": 18,
   "id": "45133b02-ffb9-48c3-9f88-a48d459a32b9",
   "metadata": {},
   "outputs": [
    {
     "data": {
      "text/plain": [
       "'Del Valle Norte'"
      ]
     },
     "execution_count": 18,
     "metadata": {},
     "output_type": "execute_result"
    }
   ],
   "source": [
    "# Colonia\n",
    "direccion[0][1]"
   ]
  },
  {
   "cell_type": "markdown",
   "id": "3c7392e8-0885-4fce-b79f-365cb6b0e2c5",
   "metadata": {},
   "source": [
    "A continuación separaresemos la información contenida en cada dirección en 4 listas: calle, colonia, municipio y estado. \n",
    "\n",
    "Para resolver el caso en el que tenemos menos información,  dependiendo del tamaño de la lista de dirección, vamos a llenar la información faltante con NaN's. Notemos que en estos casos no se suele omitir el nombre de la calle, por lo tanto no reemplazaremos el primer elemento de las listas por un NaN.   \n",
    "\n",
    "En el caso en le que tenemos más información, notamos que se debe a que se añaden datos que mejoran la precisión de la ubicación, por lo tanto podemos incluir dichos datos dentro de la información de las calles.  Para ello uniremos los primeros elementos de las listas, tomando en cuenta que los últimos 3 de cada lista son colonia, municipio y estado."
   ]
  },
  {
   "cell_type": "code",
   "execution_count": 19,
   "id": "e57c1475-d1ea-4fe9-9a5d-e10b352a3b13",
   "metadata": {},
   "outputs": [],
   "source": [
    "calle = []\n",
    "colonia = []\n",
    "municipio = []\n",
    "estado = []\n",
    "\n",
    "j=0\n",
    "for i in range(len(direccion)):\n",
    "    if (len(direccion[i]) == 4):\n",
    "        \n",
    "        calle.append(direccion[i][0])\n",
    "        colonia.append(direccion[i][1])\n",
    "        municipio.append(direccion[i][2])\n",
    "        estado.append(direccion[i][3])\n",
    "        \n",
    "    elif(len(direccion[i])==3):\n",
    "\n",
    "        direccion[i].insert(1,np.nan) #suponiendo que no se suele omitir la calle\n",
    "        \n",
    "        calle.append(direccion[i][0])\n",
    "        colonia.append(direccion[i][1])\n",
    "        municipio.append(direccion[i][2])\n",
    "        estado.append(direccion[i][3])\n",
    "        \n",
    "        \n",
    "    elif(len(direccion[i])==2):\n",
    "        \n",
    "        direccion[i].insert(1,np.nan)\n",
    "        direccion[i].insert(2,np.nan) \n",
    "\n",
    "        calle.append(direccion[i][0])\n",
    "        colonia.append(direccion[i][1])\n",
    "        municipio.append(direccion[i][2])\n",
    "        estado.append(direccion[i][3])\n",
    "\n",
    "\n",
    "    elif(len(direccion[i])==1):\n",
    "        direccion[i].insert(1,np.nan)\n",
    "        direccion[i].insert(2,np.nan)\n",
    "        direccion[i].insert(3,np.nan) \n",
    "\n",
    "\n",
    "        calle.append(direccion[i][0])\n",
    "        colonia.append(direccion[i][1])\n",
    "        municipio.append(direccion[i][2])\n",
    "        estado.append(direccion[i][3])\n",
    "        \n",
    "    elif (len(direccion[i]) > 4):\n",
    "\n",
    "        #uniremos los primeros elementos de las listas.\n",
    "        #tomando en cuenta que los últimos 3 de cada lista son colonia, municipio y estado.\n",
    "        direccion[i][0:len(direccion[i])-3] = [' '.join(direccion[i][0:len(direccion[i])-3])]\n",
    "        \n",
    "        calle.append(direccion[i][0])\n",
    "        colonia.append(direccion[i][1])\n",
    "        municipio.append(direccion[i][2])\n",
    "        estado.append(direccion[i][3])\n",
    "    "
   ]
  },
  {
   "cell_type": "code",
   "execution_count": 20,
   "id": "989cb82a-2cd1-4348-9795-86e0510feda6",
   "metadata": {},
   "outputs": [
    {
     "name": "stdout",
     "output_type": "stream",
     "text": [
      "Calle: Calzada Manuel Villalongin 213 Int. 205 \n",
      " Colonia: nan \n",
      " Municipio: Cuauhtémoc \n",
      " Estado: Distrito Federal\n"
     ]
    }
   ],
   "source": [
    "a=27\n",
    "\n",
    "print(\"Calle:\",calle[a],\"\\n\",\"Colonia:\",colonia[a],\"\\n\",\"Municipio:\",municipio[a],\"\\n\",\"Estado:\",estado[a])"
   ]
  },
  {
   "cell_type": "code",
   "execution_count": 21,
   "id": "d5d12a2a-273a-4f59-81c1-a160ac3f1444",
   "metadata": {},
   "outputs": [
    {
     "name": "stdout",
     "output_type": "stream",
     "text": [
      "Calle: Departamento En Renta Sobre Boulevard 5 De Mayo! Increible Vista Panoramica! \n",
      " Colonia: nan \n",
      " Municipio: Huexotitla \n",
      " Estado: Puebla\n"
     ]
    }
   ],
   "source": [
    "a=6\n",
    "\n",
    "print(\"Calle:\",calle[a],\"\\n\",\"Colonia:\",colonia[a],\"\\n\",\"Municipio:\",municipio[a],\"\\n\",\"Estado:\",estado[a])"
   ]
  },
  {
   "cell_type": "code",
   "execution_count": 22,
   "id": "85ebb6d1-e854-4ab3-991b-23a904a1915e",
   "metadata": {},
   "outputs": [
    {
     "name": "stdout",
     "output_type": "stream",
     "text": [
      "Calle: Magnolia 56 Depto. 3 \n",
      " Colonia: Los Morales \n",
      " Municipio: Cuautitlán \n",
      " Estado: Estado De México\n"
     ]
    }
   ],
   "source": [
    "a=12\n",
    "\n",
    "print(\"Calle:\",calle[a],\"\\n\",\"Colonia:\",colonia[a],\"\\n\",\"Municipio:\",municipio[a],\"\\n\",\"Estado:\",estado[a])"
   ]
  },
  {
   "cell_type": "code",
   "execution_count": 23,
   "id": "daf96c6c-6511-4493-b649-865306b3c734",
   "metadata": {},
   "outputs": [
    {
     "name": "stdout",
     "output_type": "stream",
     "text": [
      "Calle: Av. Emiliano Zapata (eje 7a Sur) 360 Departamento 301 Torre B Edif. 1 \n",
      " Colonia: Santa Cruz Atoyac \n",
      " Municipio: Benito Juárez \n",
      " Estado: Distrito Federal\n"
     ]
    }
   ],
   "source": [
    "a=25\n",
    "\n",
    "print(\"Calle:\",calle[a],\"\\n\",\"Colonia:\",colonia[a],\"\\n\",\"Municipio:\",municipio[a],\"\\n\",\"Estado:\",estado[a])"
   ]
  },
  {
   "cell_type": "markdown",
   "id": "10dc0408-41fe-4a80-98e0-d33b983cdb31",
   "metadata": {},
   "source": [
    "Añadimos las nuevas columnas al DataFrame"
   ]
  },
  {
   "cell_type": "code",
   "execution_count": 24,
   "id": "67345fa9-b31b-43ba-adfe-164e175e30a4",
   "metadata": {},
   "outputs": [],
   "source": [
    "df['calle'] = calle\n",
    "df['colonia'] = colonia\n",
    "df['municipio'] = municipio\n",
    "df['estado'] = estado"
   ]
  },
  {
   "cell_type": "code",
   "execution_count": 25,
   "id": "d10ccb3c-f4ac-4424-8d5d-800666bfc5ae",
   "metadata": {},
   "outputs": [
    {
     "data": {
      "text/html": [
       "<div>\n",
       "<style scoped>\n",
       "    .dataframe tbody tr th:only-of-type {\n",
       "        vertical-align: middle;\n",
       "    }\n",
       "\n",
       "    .dataframe tbody tr th {\n",
       "        vertical-align: top;\n",
       "    }\n",
       "\n",
       "    .dataframe thead th {\n",
       "        text-align: right;\n",
       "    }\n",
       "</style>\n",
       "<table border=\"1\" class=\"dataframe\">\n",
       "  <thead>\n",
       "    <tr style=\"text-align: right;\">\n",
       "      <th></th>\n",
       "      <th>titulos</th>\n",
       "      <th>superficie</th>\n",
       "      <th>recamaras</th>\n",
       "      <th>precio</th>\n",
       "      <th>ubicacion</th>\n",
       "      <th>imagen</th>\n",
       "      <th>calle</th>\n",
       "      <th>colonia</th>\n",
       "      <th>municipio</th>\n",
       "      <th>estado</th>\n",
       "    </tr>\n",
       "  </thead>\n",
       "  <tbody>\n",
       "    <tr>\n",
       "      <th>0</th>\n",
       "      <td>Súper Ubicado, Moderno, Metrobús, Escuelas, Ho...</td>\n",
       "      <td>119 m² construidos</td>\n",
       "      <td>3 recs.</td>\n",
       "      <td>20000.0</td>\n",
       "      <td>[Gabriel Mancera, Del Valle Norte, Benito Juár...</td>\n",
       "      <td>https://http2.mlstatic.com/D_NQ_NP_866287-MLM4...</td>\n",
       "      <td>Gabriel Mancera</td>\n",
       "      <td>Del Valle Norte</td>\n",
       "      <td>Benito Juárez</td>\n",
       "      <td>Distrito Federal</td>\n",
       "    </tr>\n",
       "    <tr>\n",
       "      <th>1</th>\n",
       "      <td>Departamento Amueblado En Zakia Residencial, Q...</td>\n",
       "      <td>120 m² construidos</td>\n",
       "      <td>3 recs.</td>\n",
       "      <td>14800.0</td>\n",
       "      <td>[Paseo De Zinnia 201, Zákia, El Marqués, Queré...</td>\n",
       "      <td>https://http2.mlstatic.com/D_NQ_NP_693487-MLM4...</td>\n",
       "      <td>Paseo De Zinnia 201</td>\n",
       "      <td>Zákia</td>\n",
       "      <td>El Marqués</td>\n",
       "      <td>Querétaro</td>\n",
       "    </tr>\n",
       "    <tr>\n",
       "      <th>2</th>\n",
       "      <td>Hermoso Departamento En Renta Amueblado En  Ag...</td>\n",
       "      <td>73 m² construidos</td>\n",
       "      <td>2 recs.</td>\n",
       "      <td>27000.0</td>\n",
       "      <td>[Av. Insurgentes Sur, Loreto, Alvaro Obregón, ...</td>\n",
       "      <td>https://http2.mlstatic.com/D_NQ_NP_891309-MLM4...</td>\n",
       "      <td>Av. Insurgentes Sur</td>\n",
       "      <td>Loreto</td>\n",
       "      <td>Alvaro Obregón</td>\n",
       "      <td>Distrito Federal</td>\n",
       "    </tr>\n",
       "    <tr>\n",
       "      <th>3</th>\n",
       "      <td>Confortable Departamento Con Privacidad Y Exce...</td>\n",
       "      <td>61 m² construidos</td>\n",
       "      <td>2 recs.</td>\n",
       "      <td>11400.0</td>\n",
       "      <td>[Rafael Martínez Rip Rip, Independencia, Benit...</td>\n",
       "      <td>https://http2.mlstatic.com/D_NQ_NP_799707-MLM4...</td>\n",
       "      <td>Rafael Martínez Rip Rip</td>\n",
       "      <td>Independencia</td>\n",
       "      <td>Benito Juárez</td>\n",
       "      <td>Distrito Federal</td>\n",
       "    </tr>\n",
       "    <tr>\n",
       "      <th>4</th>\n",
       "      <td>Departamento En Renta Coyoacán Col. Parque San...</td>\n",
       "      <td>52 m² construidos</td>\n",
       "      <td>2 recs.</td>\n",
       "      <td>13000.0</td>\n",
       "      <td>[Carreteraco, Parque San Andrés, Coyoacán, Dis...</td>\n",
       "      <td>https://http2.mlstatic.com/D_NQ_NP_649773-MLM4...</td>\n",
       "      <td>Carreteraco</td>\n",
       "      <td>Parque San Andrés</td>\n",
       "      <td>Coyoacán</td>\n",
       "      <td>Distrito Federal</td>\n",
       "    </tr>\n",
       "  </tbody>\n",
       "</table>\n",
       "</div>"
      ],
      "text/plain": [
       "                                             titulos          superficie  \\\n",
       "0  Súper Ubicado, Moderno, Metrobús, Escuelas, Ho...  119 m² construidos   \n",
       "1  Departamento Amueblado En Zakia Residencial, Q...  120 m² construidos   \n",
       "2  Hermoso Departamento En Renta Amueblado En  Ag...   73 m² construidos   \n",
       "3  Confortable Departamento Con Privacidad Y Exce...   61 m² construidos   \n",
       "4  Departamento En Renta Coyoacán Col. Parque San...   52 m² construidos   \n",
       "\n",
       "  recamaras   precio                                          ubicacion  \\\n",
       "0   3 recs.  20000.0  [Gabriel Mancera, Del Valle Norte, Benito Juár...   \n",
       "1   3 recs.  14800.0  [Paseo De Zinnia 201, Zákia, El Marqués, Queré...   \n",
       "2   2 recs.  27000.0  [Av. Insurgentes Sur, Loreto, Alvaro Obregón, ...   \n",
       "3   2 recs.  11400.0  [Rafael Martínez Rip Rip, Independencia, Benit...   \n",
       "4   2 recs.  13000.0  [Carreteraco, Parque San Andrés, Coyoacán, Dis...   \n",
       "\n",
       "                                              imagen                    calle  \\\n",
       "0  https://http2.mlstatic.com/D_NQ_NP_866287-MLM4...          Gabriel Mancera   \n",
       "1  https://http2.mlstatic.com/D_NQ_NP_693487-MLM4...      Paseo De Zinnia 201   \n",
       "2  https://http2.mlstatic.com/D_NQ_NP_891309-MLM4...      Av. Insurgentes Sur   \n",
       "3  https://http2.mlstatic.com/D_NQ_NP_799707-MLM4...  Rafael Martínez Rip Rip   \n",
       "4  https://http2.mlstatic.com/D_NQ_NP_649773-MLM4...              Carreteraco   \n",
       "\n",
       "             colonia       municipio            estado  \n",
       "0    Del Valle Norte   Benito Juárez  Distrito Federal  \n",
       "1              Zákia      El Marqués         Querétaro  \n",
       "2             Loreto  Alvaro Obregón  Distrito Federal  \n",
       "3      Independencia   Benito Juárez  Distrito Federal  \n",
       "4  Parque San Andrés        Coyoacán  Distrito Federal  "
      ]
     },
     "execution_count": 25,
     "metadata": {},
     "output_type": "execute_result"
    }
   ],
   "source": [
    "df.head()"
   ]
  },
  {
   "cell_type": "markdown",
   "id": "82a0900d-1e17-44c8-b589-cfba4da05a2a",
   "metadata": {},
   "source": [
    "De los datos que añadimos, los más importantes son estado, municipio/alcaldía y colonia. Para estas columnas tenemos que asegurarnos que su redacción sea correcta, para evitar duplicados debidos a diferencias en la escritura (uso de mayúsculas, acentos, errores ortográficos, etc). Notemos que con estos datos nos será posible obtener los códigos postales con los cuales podremos ubicar los departamentos en un mapa. "
   ]
  },
  {
   "cell_type": "markdown",
   "id": "912778db-ab8e-43f3-babb-25102f2287fc",
   "metadata": {},
   "source": [
    "Por otro lado, nos será conveniente para cálculos tener solo valores numéricos en las columnas de superficie y recámaras. "
   ]
  },
  {
   "cell_type": "code",
   "execution_count": 26,
   "id": "d668f7bb-9947-45af-80d7-43868dc91d24",
   "metadata": {},
   "outputs": [
    {
     "data": {
      "text/plain": [
       "0       Distrito Federal\n",
       "1              Querétaro\n",
       "2       Distrito Federal\n",
       "3       Distrito Federal\n",
       "4       Distrito Federal\n",
       "              ...       \n",
       "1099    Estado De México\n",
       "1100    Distrito Federal\n",
       "1101        Quintana Roo\n",
       "1102    Distrito Federal\n",
       "1103    Distrito Federal\n",
       "Name: estado, Length: 1104, dtype: object"
      ]
     },
     "execution_count": 26,
     "metadata": {},
     "output_type": "execute_result"
    }
   ],
   "source": [
    "df[\"estado\"]"
   ]
  },
  {
   "cell_type": "code",
   "execution_count": 27,
   "id": "088717ae-42c8-4c70-9524-75a0a54d6d7d",
   "metadata": {},
   "outputs": [
    {
     "data": {
      "text/plain": [
       "array(['Distrito Federal', 'Querétaro', 'Quintana Roo', 'Puebla',\n",
       "       'Estado De México', 'Nuevo León', 'Baja California', 'Jalisco'],\n",
       "      dtype=object)"
      ]
     },
     "execution_count": 27,
     "metadata": {},
     "output_type": "execute_result"
    }
   ],
   "source": [
    "estados=df[\"estado\"].dropna().unique()\n",
    "estados"
   ]
  },
  {
   "cell_type": "code",
   "execution_count": 28,
   "id": "3e4618b1-1bd3-42b0-950a-497732e5cc40",
   "metadata": {},
   "outputs": [
    {
     "data": {
      "text/plain": [
       "array(['Benito Juárez', 'El Marqués', 'Alvaro Obregón', 'Coyoacán',\n",
       "       'Cancún/benito Juárez', 'Huexotitla', 'Gustavo A. Madero',\n",
       "       'Cuautitlán', 'Azcapotzalco', 'Solidaridad/riviera Maya',\n",
       "       'Santa Catarina', 'Atizapán De Zaragoza', 'San Juan Del Río',\n",
       "       'Coacalco De Berriozabal', 'Tijuana', 'Miguel Hidalgo',\n",
       "       'Cuauhtémoc', 'Toluca', 'Huixquilucan', 'Guadalajara', 'Naucalpan'],\n",
       "      dtype=object)"
      ]
     },
     "execution_count": 28,
     "metadata": {},
     "output_type": "execute_result"
    }
   ],
   "source": [
    "municipios=df[\"municipio\"].dropna().unique()\n",
    "municipios"
   ]
  },
  {
   "cell_type": "code",
   "execution_count": 29,
   "id": "abfb5fc5-105b-4be5-98be-e117412b02ad",
   "metadata": {},
   "outputs": [
    {
     "data": {
      "text/plain": [
       "array(['Del Valle Norte', 'Zákia', 'Loreto', 'Independencia',\n",
       "       'Parque San Andrés', 'Cancún Centro', 'Nápoles',\n",
       "       'Residencial Zacatenco', 'Granjas Modernas', 'Albert',\n",
       "       'Los Morales', 'Clavería', 'Centro',\n",
       "       'Valle Poniente Sector Olinca', 'México Nuevo', 'Ejidal',\n",
       "       'Del Gas', 'Valle De Oro', 'Lomas De Coacalco',\n",
       "       'Lomas De San Lorenzo', 'Narvarte Poniente',\n",
       "       'Zona Urbana Río Tijuana', 'Santa Cruz Atoyac', 'Irrigación',\n",
       "       'Guerrero', 'Industrial San Antonio', 'Supermanzana 523',\n",
       "       'Granada', 'Industrial', 'Jesús Del Monte', 'Insurgentes Mixcoac',\n",
       "       'Espartaco', 'Ladrón De Guevara', 'Supermanzana 97',\n",
       "       'Santa María Magdalena', 'Bosque Alto', 'Playa Del Carmen Centro',\n",
       "       'San Pedro Xalpa'], dtype=object)"
      ]
     },
     "execution_count": 29,
     "metadata": {},
     "output_type": "execute_result"
    }
   ],
   "source": [
    "colonias=df[\"colonia\"].dropna().unique()\n",
    "colonias"
   ]
  },
  {
   "cell_type": "code",
   "execution_count": 30,
   "id": "ea360750-28d4-4257-b7be-7d28a54dbadd",
   "metadata": {},
   "outputs": [
    {
     "name": "stderr",
     "output_type": "stream",
     "text": [
      "/home/solaris/anaconda3/envs/cursos/lib/python3.9/site-packages/fuzzywuzzy/fuzz.py:11: UserWarning: Using slow pure-python SequenceMatcher. Install python-Levenshtein to remove this warning\n",
      "  warnings.warn('Using slow pure-python SequenceMatcher. Install python-Levenshtein to remove this warning')\n"
     ]
    },
    {
     "data": {
      "text/plain": [
       "\u001b[0;31mSignature:\u001b[0m \u001b[0mbusca_similares\u001b[0m\u001b[0;34m(\u001b[0m\u001b[0mcolumna_unique\u001b[0m\u001b[0;34m,\u001b[0m \u001b[0mcantidad\u001b[0m\u001b[0;34m)\u001b[0m\u001b[0;34m\u001b[0m\u001b[0;34m\u001b[0m\u001b[0m\n",
       "\u001b[0;31mDocstring:\u001b[0m\n",
       "Example: \n",
       "Input: Columna de un dataframe al que se le ha aplicado el método .unique()\n",
       "       y una \"cantidad\" de coincidencias a mostrar por palabra.  \n",
       "\n",
       "Output: Las strings más cercanas entre sí de toda la columna. \n",
       "\u001b[0;31mFile:\u001b[0m      ~/Documentos/cursos_datos/proyectos/Mercado_Libre/Data_Cleaning/similares.py\n",
       "\u001b[0;31mType:\u001b[0m      function\n"
      ]
     },
     "metadata": {},
     "output_type": "display_data"
    }
   ],
   "source": [
    "from similares import replace_matches_in_column\n",
    "from similares import busca_similares\n",
    "#replace_matches_in_column?\n",
    "busca_similares?"
   ]
  },
  {
   "cell_type": "code",
   "execution_count": 31,
   "id": "99481b1c-8bec-4ad5-9284-0e36fdc9024a",
   "metadata": {},
   "outputs": [
    {
     "name": "stdout",
     "output_type": "stream",
     "text": [
      "0 [('Benito Juárez', 100), ('Cancún/benito Juárez', 80), ('Miguel Hidalgo', 38)]\n",
      "1 [('El Marqués', 100), ('San Juan Del Río', 50), ('Huexotitla', 32)]\n",
      "2 [('Alvaro Obregón', 100), ('Santa Catarina', 37), ('Miguel Hidalgo', 37)]\n",
      "3 [('Coyoacán', 100), ('Cuautitlán', 38), ('Cuauhtémoc', 38)]\n",
      "4 [('Cancún/benito Juárez', 100), ('Benito Juárez', 80), ('Toluca', 33)]\n",
      "5 [('Huexotitla', 100), ('Huixquilucan', 55), ('Cuautitlán', 53)]\n",
      "6 [('Gustavo A. Madero', 100), ('Miguel Hidalgo', 40), ('Guadalajara', 37)]\n",
      "7 [('Cuautitlán', 100), ('Cuauhtémoc', 56), ('Huexotitla', 53)]\n",
      "8 [('Azcapotzalco', 100), ('Naucalpan', 48), ('Atizapán De Zaragoza', 45)]\n",
      "9 [('Solidaridad/riviera Maya', 100), ('Santa Catarina', 47), ('Atizapán De Zaragoza', 37)]\n",
      "10 [('Santa Catarina', 100), ('Cuautitlán', 43), ('San Juan Del Río', 41)]\n",
      "11 [('Atizapán De Zaragoza', 100), ('Gustavo A. Madero', 46), ('Tijuana', 38)]\n",
      "12 [('San Juan Del Río', 100), ('Tijuana', 45), ('Alvaro Obregón', 43)]\n",
      "13 [('Coacalco De Berriozabal', 100), ('Cancún/benito Juárez', 49), ('Benito Juárez', 34)]\n",
      "14 [('Tijuana', 100), ('Santa Catarina', 48), ('Toluca', 46)]\n",
      "15 [('Miguel Hidalgo', 100), ('Gustavo A. Madero', 40), ('Benito Juárez', 38)]\n",
      "16 [('Cuauhtémoc', 100), ('Cuautitlán', 56), ('Coyoacán', 38)]\n",
      "17 [('Toluca', 100), ('Tijuana', 46), ('Huixquilucan', 44)]\n",
      "18 [('Huixquilucan', 100), ('Huexotitla', 45), ('Toluca', 44)]\n",
      "19 [('Guadalajara', 100), ('Naucalpan', 40), ('Gustavo A. Madero', 37)]\n",
      "20 [('Naucalpan', 100), ('Cuautitlán', 44), ('Toluca', 40)]\n"
     ]
    }
   ],
   "source": [
    "busca_similares(municipios,3)"
   ]
  },
  {
   "cell_type": "code",
   "execution_count": 32,
   "id": "427e08d2-c2b0-4571-b33e-d26d3230f914",
   "metadata": {},
   "outputs": [
    {
     "name": "stdout",
     "output_type": "stream",
     "text": [
      "0 [('Benito Juárez', 100), ('Cancún/benito Juárez', 80), ('Miguel Hidalgo', 38)]\n",
      "1 [('El Marqués', 100), ('San Juan Del Río', 50), ('Huexotitla', 32)]\n",
      "2 [('Alvaro Obregón', 100), ('Santa Catarina', 37), ('Miguel Hidalgo', 37)]\n",
      "3 [('Coyoacán', 100), ('Cuautitlán', 38), ('Cuauhtémoc', 38)]\n",
      "4 [('Cancún/benito Juárez', 100), ('Benito Juárez', 80), ('Toluca', 33)]\n",
      "5 [('Huexotitla', 100), ('Huixquilucan', 55), ('Cuautitlán', 53)]\n",
      "6 [('Gustavo A. Madero', 100), ('Miguel Hidalgo', 40), ('Guadalajara', 37)]\n",
      "7 [('Cuautitlán', 100), ('Cuauhtémoc', 56), ('Huexotitla', 53)]\n",
      "8 [('Azcapotzalco', 100), ('Naucalpan', 48), ('Atizapán De Zaragoza', 45)]\n",
      "9 [('Solidaridad/riviera Maya', 100), ('Santa Catarina', 47), ('Atizapán De Zaragoza', 37)]\n",
      "10 [('Santa Catarina', 100), ('Cuautitlán', 43), ('San Juan Del Río', 41)]\n",
      "11 [('Atizapán De Zaragoza', 100), ('Gustavo A. Madero', 46), ('Tijuana', 38)]\n",
      "12 [('San Juan Del Río', 100), ('Tijuana', 45), ('Alvaro Obregón', 43)]\n",
      "13 [('Coacalco De Berriozabal', 100), ('Cancún/benito Juárez', 49), ('Benito Juárez', 34)]\n",
      "14 [('Tijuana', 100), ('Santa Catarina', 48), ('Toluca', 46)]\n",
      "15 [('Miguel Hidalgo', 100), ('Gustavo A. Madero', 40), ('Benito Juárez', 38)]\n",
      "16 [('Cuauhtémoc', 100), ('Cuautitlán', 56), ('Coyoacán', 38)]\n",
      "17 [('Toluca', 100), ('Tijuana', 46), ('Huixquilucan', 44)]\n",
      "18 [('Huixquilucan', 100), ('Huexotitla', 45), ('Toluca', 44)]\n",
      "19 [('Guadalajara', 100), ('Naucalpan', 40), ('Gustavo A. Madero', 37)]\n",
      "20 [('Naucalpan', 100), ('Cuautitlán', 44), ('Toluca', 40)]\n"
     ]
    }
   ],
   "source": [
    "busca_similares(municipios,3)"
   ]
  },
  {
   "cell_type": "code",
   "execution_count": 33,
   "id": "6368df75-f03c-4a46-821d-63e56b2ec70a",
   "metadata": {},
   "outputs": [
    {
     "name": "stdout",
     "output_type": "stream",
     "text": [
      "0 [('Del Valle Norte', 100), ('Valle De Oro', 81), ('Los Morales', 54)]\n",
      "1 [('Zákia', 100), ('Ejidal', 40), ('Irrigación', 31)]\n",
      "2 [('Loreto', 100), ('Albert', 50), ('Los Morales', 47)]\n",
      "3 [('Independencia', 100), ('Insurgentes Mixcoac', 44), ('Industrial', 43)]\n",
      "4 [('Parque San Andrés', 100), ('Lomas De San Lorenzo', 50), ('Santa María Magdalena', 50)]\n",
      "5 [('Cancún Centro', 100), ('Centro', 67), ('Playa Del Carmen Centro', 57)]\n",
      "6 [('Nápoles', 100), ('Los Morales', 47), ('Del Valle Norte', 38)]\n",
      "7 [('Residencial Zacatenco', 100), ('Independencia', 41), ('Espartaco', 40)]\n",
      "8 [('Granjas Modernas', 100), ('Granada', 61), ('Los Morales', 44)]\n",
      "9 [('Albert', 100), ('Loreto', 50), ('Bosque Alto', 47)]\n",
      "10 [('Los Morales', 100), ('Del Valle Norte', 54), ('Granjas Modernas', 52)]\n",
      "11 [('Clavería', 100), ('Albert', 46), ('Centro', 46)]\n",
      "12 [('Centro', 100), ('Cancún Centro', 67), ('Loreto', 50)]\n",
      "13 [('Valle Poniente Sector Olinca', 100), ('Valle De Oro', 50), ('Narvarte Poniente', 49)]\n",
      "14 [('México Nuevo', 100), ('Lomas De Coacalco', 36), ('Bosque Alto', 36)]\n",
      "15 [('Ejidal', 100), ('Industrial', 50), ('Zákia', 40)]\n",
      "16 [('Del Gas', 100), ('Jesús Del Monte', 48), ('Del Valle Norte', 45)]\n",
      "17 [('Valle De Oro', 100), ('Del Valle Norte', 81), ('Los Morales', 52)]\n",
      "18 [('Lomas De Coacalco', 100), ('Playa Del Carmen Centro', 50), ('Lomas De San Lorenzo', 43)]\n",
      "19 [('Lomas De San Lorenzo', 100), ('Los Morales', 52), ('Parque San Andrés', 50)]\n",
      "20 [('Narvarte Poniente', 100), ('Valle Poniente Sector Olinca', 49), ('Independencia', 40)]\n",
      "21 [('Zona Urbana Río Tijuana', 100), ('Granjas Modernas', 42), ('Santa María Magdalena', 38)]\n",
      "22 [('Santa Cruz Atoyac', 100), ('Santa María Magdalena', 54), ('Parque San Andrés', 48)]\n",
      "23 [('Irrigación', 100), ('Industrial', 42), ('Granada', 38)]\n",
      "24 [('Guerrero', 100), ('Loreto', 43), ('Centro', 43)]\n",
      "25 [('Industrial San Antonio', 100), ('Industrial', 62), ('Santa Cruz Atoyac', 46)]\n",
      "26 [('Supermanzana 523', 100), ('Supermanzana 97', 84), ('San Pedro Xalpa', 39)]\n",
      "27 [('Granada', 100), ('Granjas Modernas', 61), ('San Pedro Xalpa', 45)]\n",
      "28 [('Industrial', 100), ('Industrial San Antonio', 62), ('Ejidal', 50)]\n",
      "29 [('Jesús Del Monte', 100), ('Del Valle Norte', 48), ('Los Morales', 48)]\n",
      "30 [('Insurgentes Mixcoac', 100), ('Independencia', 44), ('Industrial', 41)]\n",
      "31 [('Espartaco', 100), ('Loreto', 40), ('Parque San Andrés', 40)]\n",
      "32 [('Ladrón De Guevara', 100), ('Santa María Magdalena', 50), ('Del Valle Norte', 45)]\n",
      "33 [('Supermanzana 97', 100), ('Supermanzana 523', 84), ('San Pedro Xalpa', 40)]\n",
      "34 [('Santa María Magdalena', 100), ('Santa Cruz Atoyac', 54), ('Parque San Andrés', 50)]\n",
      "35 [('Bosque Alto', 100), ('Lomas De Coacalco', 43), ('Parque San Andrés', 37)]\n",
      "36 [('Playa Del Carmen Centro', 100), ('Cancún Centro', 57), ('Lomas De Coacalco', 45)]\n",
      "37 [('San Pedro Xalpa', 100), ('Supermanzana 97', 47), ('Supermanzana 523', 45)]\n"
     ]
    }
   ],
   "source": [
    "busca_similares(colonias,3)"
   ]
  },
  {
   "cell_type": "code",
   "execution_count": 34,
   "id": "23e5efe6-bd6a-4474-b5e5-a590c75f2567",
   "metadata": {},
   "outputs": [
    {
     "name": "stdout",
     "output_type": "stream",
     "text": [
      "0 [('Distrito Federal', 100), ('Estado De México', 32), ('Quintana Roo', 29)]\n",
      "1 [('Querétaro', 100), ('Quintana Roo', 60), ('Puebla', 43)]\n",
      "2 [('Quintana Roo', 100), ('Querétaro', 60), ('Estado De México', 30)]\n",
      "3 [('Puebla', 100), ('Querétaro', 43), ('Baja California', 29)]\n",
      "4 [('Estado De México', 100), ('Querétaro', 35), ('Nuevo León', 33)]\n",
      "5 [('Nuevo León', 100), ('Querétaro', 35), ('Estado De México', 33)]\n",
      "6 [('Baja California', 100), ('Jalisco', 45), ('Quintana Roo', 30)]\n",
      "7 [('Jalisco', 100), ('Baja California', 45), ('Estado De México', 36)]\n"
     ]
    }
   ],
   "source": [
    "busca_similares(estados,3)"
   ]
  },
  {
   "cell_type": "code",
   "execution_count": 35,
   "id": "c4c4a719-800d-4ae2-8dea-85ef13136da1",
   "metadata": {},
   "outputs": [
    {
     "data": {
      "text/plain": [
       "\u001b[0;31mSignature:\u001b[0m \u001b[0mreplace_matches_in_column\u001b[0m\u001b[0;34m(\u001b[0m\u001b[0mdf\u001b[0m\u001b[0;34m,\u001b[0m \u001b[0mcolumn\u001b[0m\u001b[0;34m,\u001b[0m \u001b[0mstring_to_match\u001b[0m\u001b[0;34m,\u001b[0m \u001b[0mmin_ratio\u001b[0m\u001b[0;34m=\u001b[0m\u001b[0;36m47\u001b[0m\u001b[0;34m)\u001b[0m\u001b[0;34m\u001b[0m\u001b[0;34m\u001b[0m\u001b[0m\n",
       "\u001b[0;31mDocstring:\u001b[0m\n",
       "Example: Replace close matches to \"southkorea\" with \"south korea\":\n",
       "\n",
       "replace_matches_in_column(df=professors, column='Country', string_to_match=\"south korea\")\n",
       "\u001b[0;31mFile:\u001b[0m      ~/Documentos/cursos_datos/proyectos/Mercado_Libre/Data_Cleaning/similares.py\n",
       "\u001b[0;31mType:\u001b[0m      function\n"
      ]
     },
     "metadata": {},
     "output_type": "display_data"
    }
   ],
   "source": [
    "from similares import replace_matches_in_column\n",
    "replace_matches_in_column?"
   ]
  },
  {
   "cell_type": "code",
   "execution_count": 36,
   "id": "50e1ff37-ea15-49fc-b092-977d2d0f16de",
   "metadata": {},
   "outputs": [
    {
     "name": "stdout",
     "output_type": "stream",
     "text": [
      "All done!\n"
     ]
    }
   ],
   "source": [
    "#Cancún/benito Juárez->Benito Juárez\n",
    "\n",
    "replace_matches_in_column(df=df, column='municipio', string_to_match=\"Benito Juárez\")\n",
    "\n",
    "\n"
   ]
  },
  {
   "cell_type": "code",
   "execution_count": 37,
   "id": "a61b09b8-1647-4182-b32f-aefdacdbaea2",
   "metadata": {},
   "outputs": [
    {
     "data": {
      "text/plain": [
       "True"
      ]
     },
     "execution_count": 37,
     "metadata": {},
     "output_type": "execute_result"
    }
   ],
   "source": [
    "df[\"municipio\"][15]==\"Solidaridad/riviera Maya\""
   ]
  },
  {
   "cell_type": "code",
   "execution_count": 38,
   "id": "e36ce190-399c-401b-8716-9c1490fa084b",
   "metadata": {},
   "outputs": [],
   "source": [
    "df[\"municipio\"]=df[\"municipio\"].replace([\"Solidaridad/riviera Maya\"], \"Solidaridad\")"
   ]
  },
  {
   "cell_type": "code",
   "execution_count": 39,
   "id": "b9d8d122-ec2c-4fff-9c63-bba382131f0a",
   "metadata": {},
   "outputs": [
    {
     "data": {
      "text/plain": [
       "'Solidaridad'"
      ]
     },
     "execution_count": 39,
     "metadata": {},
     "output_type": "execute_result"
    }
   ],
   "source": [
    "df[\"municipio\"][15]"
   ]
  },
  {
   "cell_type": "code",
   "execution_count": 40,
   "id": "ca9aebf2-e10b-4000-9ecc-d94aee27e559",
   "metadata": {},
   "outputs": [
    {
     "data": {
      "text/plain": [
       "'119 m² construidos'"
      ]
     },
     "execution_count": 40,
     "metadata": {},
     "output_type": "execute_result"
    }
   ],
   "source": [
    "df[\"superficie\"][0]"
   ]
  },
  {
   "cell_type": "code",
   "execution_count": 41,
   "id": "221532be-9627-40b2-9ed3-fa24fb288e34",
   "metadata": {},
   "outputs": [],
   "source": [
    "a=df[\"superficie\"][0]"
   ]
  },
  {
   "cell_type": "code",
   "execution_count": 42,
   "id": "ddd1550e-2df0-4f0d-93e2-eca9379c4d12",
   "metadata": {},
   "outputs": [
    {
     "data": {
      "text/plain": [
       "119.0"
      ]
     },
     "execution_count": 42,
     "metadata": {},
     "output_type": "execute_result"
    }
   ],
   "source": [
    "b=a.replace(\" m² construidos\",\"\")\n",
    "float(b)"
   ]
  },
  {
   "cell_type": "code",
   "execution_count": 43,
   "id": "2e149a30-3535-4d94-b129-46e3ed04f18f",
   "metadata": {},
   "outputs": [
    {
     "name": "stderr",
     "output_type": "stream",
     "text": [
      "/tmp/ipykernel_10172/1926137496.py:4: SettingWithCopyWarning: \n",
      "A value is trying to be set on a copy of a slice from a DataFrame\n",
      "\n",
      "See the caveats in the documentation: https://pandas.pydata.org/pandas-docs/stable/user_guide/indexing.html#returning-a-view-versus-a-copy\n",
      "  df[\"superficie\"][i]=df[\"superficie\"][i].replace(\" m² construidos\",\"\")\n"
     ]
    }
   ],
   "source": [
    "#probar un , inplace=True para quitar la advertencia\n",
    "\n",
    "for i  in range(len(df[\"superficie\"])):\n",
    "    df[\"superficie\"][i]=df[\"superficie\"][i].replace(\" m² construidos\",\"\")"
   ]
  },
  {
   "cell_type": "code",
   "execution_count": 44,
   "id": "30d1aff9-b962-46fe-a432-002ffc74c349",
   "metadata": {},
   "outputs": [
    {
     "name": "stderr",
     "output_type": "stream",
     "text": [
      "/tmp/ipykernel_10172/3769706909.py:2: SettingWithCopyWarning: \n",
      "A value is trying to be set on a copy of a slice from a DataFrame\n",
      "\n",
      "See the caveats in the documentation: https://pandas.pydata.org/pandas-docs/stable/user_guide/indexing.html#returning-a-view-versus-a-copy\n",
      "  df[\"superficie\"][i]=float(df[\"superficie\"][i])\n"
     ]
    }
   ],
   "source": [
    "for i  in range(len(df[\"superficie\"])):\n",
    "    df[\"superficie\"][i]=float(df[\"superficie\"][i])"
   ]
  },
  {
   "cell_type": "code",
   "execution_count": 45,
   "id": "abbd2541-6e4c-4586-a4d8-4fccc9c2a5ce",
   "metadata": {},
   "outputs": [
    {
     "name": "stderr",
     "output_type": "stream",
     "text": [
      "/tmp/ipykernel_10172/2904285959.py:2: SettingWithCopyWarning: \n",
      "A value is trying to be set on a copy of a slice from a DataFrame\n",
      "\n",
      "See the caveats in the documentation: https://pandas.pydata.org/pandas-docs/stable/user_guide/indexing.html#returning-a-view-versus-a-copy\n",
      "  df[\"recamaras\"].loc[i]=df[\"recamaras\"][i].replace(\" recs.\",\"\")\n"
     ]
    }
   ],
   "source": [
    "for i  in range(len(df[\"recamaras\"])):\n",
    "    df[\"recamaras\"].loc[i]=df[\"recamaras\"][i].replace(\" recs.\",\"\")"
   ]
  },
  {
   "cell_type": "code",
   "execution_count": 46,
   "id": "74fd803e-410a-4755-b17b-5655d287901e",
   "metadata": {},
   "outputs": [
    {
     "name": "stderr",
     "output_type": "stream",
     "text": [
      "/tmp/ipykernel_10172/1948828721.py:2: SettingWithCopyWarning: \n",
      "A value is trying to be set on a copy of a slice from a DataFrame\n",
      "\n",
      "See the caveats in the documentation: https://pandas.pydata.org/pandas-docs/stable/user_guide/indexing.html#returning-a-view-versus-a-copy\n",
      "  df[\"recamaras\"].loc[i]=df[\"recamaras\"].loc[i].replace(\" rec.\",\"\")\n"
     ]
    }
   ],
   "source": [
    "for i  in range(len(df[\"recamaras\"])):\n",
    "    df[\"recamaras\"].loc[i]=df[\"recamaras\"].loc[i].replace(\" rec.\",\"\")"
   ]
  },
  {
   "cell_type": "code",
   "execution_count": 47,
   "id": "cd9a4d6c-3625-4028-a780-c68a9b453241",
   "metadata": {},
   "outputs": [
    {
     "name": "stderr",
     "output_type": "stream",
     "text": [
      "/tmp/ipykernel_10172/465487925.py:2: SettingWithCopyWarning: \n",
      "A value is trying to be set on a copy of a slice from a DataFrame\n",
      "\n",
      "See the caveats in the documentation: https://pandas.pydata.org/pandas-docs/stable/user_guide/indexing.html#returning-a-view-versus-a-copy\n",
      "  df[\"recamaras\"].loc[i]=int(df[\"recamaras\"].loc[i])\n"
     ]
    }
   ],
   "source": [
    "for i  in range(len(df[\"recamaras\"])):\n",
    "    df[\"recamaras\"].loc[i]=int(df[\"recamaras\"].loc[i])"
   ]
  },
  {
   "cell_type": "code",
   "execution_count": 48,
   "id": "5d37a8c8-598d-433e-9896-3efd9fda829a",
   "metadata": {},
   "outputs": [
    {
     "data": {
      "text/html": [
       "<div>\n",
       "<style scoped>\n",
       "    .dataframe tbody tr th:only-of-type {\n",
       "        vertical-align: middle;\n",
       "    }\n",
       "\n",
       "    .dataframe tbody tr th {\n",
       "        vertical-align: top;\n",
       "    }\n",
       "\n",
       "    .dataframe thead th {\n",
       "        text-align: right;\n",
       "    }\n",
       "</style>\n",
       "<table border=\"1\" class=\"dataframe\">\n",
       "  <thead>\n",
       "    <tr style=\"text-align: right;\">\n",
       "      <th></th>\n",
       "      <th>titulos</th>\n",
       "      <th>superficie</th>\n",
       "      <th>recamaras</th>\n",
       "      <th>precio</th>\n",
       "      <th>ubicacion</th>\n",
       "      <th>imagen</th>\n",
       "      <th>calle</th>\n",
       "      <th>colonia</th>\n",
       "      <th>municipio</th>\n",
       "      <th>estado</th>\n",
       "    </tr>\n",
       "  </thead>\n",
       "  <tbody>\n",
       "    <tr>\n",
       "      <th>0</th>\n",
       "      <td>Súper Ubicado, Moderno, Metrobús, Escuelas, Ho...</td>\n",
       "      <td>119.0</td>\n",
       "      <td>3</td>\n",
       "      <td>20000.0</td>\n",
       "      <td>[Gabriel Mancera, Del Valle Norte, Benito Juár...</td>\n",
       "      <td>https://http2.mlstatic.com/D_NQ_NP_866287-MLM4...</td>\n",
       "      <td>Gabriel Mancera</td>\n",
       "      <td>Del Valle Norte</td>\n",
       "      <td>Benito Juárez</td>\n",
       "      <td>Distrito Federal</td>\n",
       "    </tr>\n",
       "    <tr>\n",
       "      <th>1</th>\n",
       "      <td>Departamento Amueblado En Zakia Residencial, Q...</td>\n",
       "      <td>120.0</td>\n",
       "      <td>3</td>\n",
       "      <td>14800.0</td>\n",
       "      <td>[Paseo De Zinnia 201, Zákia, El Marqués, Queré...</td>\n",
       "      <td>https://http2.mlstatic.com/D_NQ_NP_693487-MLM4...</td>\n",
       "      <td>Paseo De Zinnia 201</td>\n",
       "      <td>Zákia</td>\n",
       "      <td>El Marqués</td>\n",
       "      <td>Querétaro</td>\n",
       "    </tr>\n",
       "    <tr>\n",
       "      <th>2</th>\n",
       "      <td>Hermoso Departamento En Renta Amueblado En  Ag...</td>\n",
       "      <td>73.0</td>\n",
       "      <td>2</td>\n",
       "      <td>27000.0</td>\n",
       "      <td>[Av. Insurgentes Sur, Loreto, Alvaro Obregón, ...</td>\n",
       "      <td>https://http2.mlstatic.com/D_NQ_NP_891309-MLM4...</td>\n",
       "      <td>Av. Insurgentes Sur</td>\n",
       "      <td>Loreto</td>\n",
       "      <td>Alvaro Obregón</td>\n",
       "      <td>Distrito Federal</td>\n",
       "    </tr>\n",
       "    <tr>\n",
       "      <th>3</th>\n",
       "      <td>Confortable Departamento Con Privacidad Y Exce...</td>\n",
       "      <td>61.0</td>\n",
       "      <td>2</td>\n",
       "      <td>11400.0</td>\n",
       "      <td>[Rafael Martínez Rip Rip, Independencia, Benit...</td>\n",
       "      <td>https://http2.mlstatic.com/D_NQ_NP_799707-MLM4...</td>\n",
       "      <td>Rafael Martínez Rip Rip</td>\n",
       "      <td>Independencia</td>\n",
       "      <td>Benito Juárez</td>\n",
       "      <td>Distrito Federal</td>\n",
       "    </tr>\n",
       "    <tr>\n",
       "      <th>4</th>\n",
       "      <td>Departamento En Renta Coyoacán Col. Parque San...</td>\n",
       "      <td>52.0</td>\n",
       "      <td>2</td>\n",
       "      <td>13000.0</td>\n",
       "      <td>[Carreteraco, Parque San Andrés, Coyoacán, Dis...</td>\n",
       "      <td>https://http2.mlstatic.com/D_NQ_NP_649773-MLM4...</td>\n",
       "      <td>Carreteraco</td>\n",
       "      <td>Parque San Andrés</td>\n",
       "      <td>Coyoacán</td>\n",
       "      <td>Distrito Federal</td>\n",
       "    </tr>\n",
       "  </tbody>\n",
       "</table>\n",
       "</div>"
      ],
      "text/plain": [
       "                                             titulos superficie recamaras  \\\n",
       "0  Súper Ubicado, Moderno, Metrobús, Escuelas, Ho...      119.0         3   \n",
       "1  Departamento Amueblado En Zakia Residencial, Q...      120.0         3   \n",
       "2  Hermoso Departamento En Renta Amueblado En  Ag...       73.0         2   \n",
       "3  Confortable Departamento Con Privacidad Y Exce...       61.0         2   \n",
       "4  Departamento En Renta Coyoacán Col. Parque San...       52.0         2   \n",
       "\n",
       "    precio                                          ubicacion  \\\n",
       "0  20000.0  [Gabriel Mancera, Del Valle Norte, Benito Juár...   \n",
       "1  14800.0  [Paseo De Zinnia 201, Zákia, El Marqués, Queré...   \n",
       "2  27000.0  [Av. Insurgentes Sur, Loreto, Alvaro Obregón, ...   \n",
       "3  11400.0  [Rafael Martínez Rip Rip, Independencia, Benit...   \n",
       "4  13000.0  [Carreteraco, Parque San Andrés, Coyoacán, Dis...   \n",
       "\n",
       "                                              imagen                    calle  \\\n",
       "0  https://http2.mlstatic.com/D_NQ_NP_866287-MLM4...          Gabriel Mancera   \n",
       "1  https://http2.mlstatic.com/D_NQ_NP_693487-MLM4...      Paseo De Zinnia 201   \n",
       "2  https://http2.mlstatic.com/D_NQ_NP_891309-MLM4...      Av. Insurgentes Sur   \n",
       "3  https://http2.mlstatic.com/D_NQ_NP_799707-MLM4...  Rafael Martínez Rip Rip   \n",
       "4  https://http2.mlstatic.com/D_NQ_NP_649773-MLM4...              Carreteraco   \n",
       "\n",
       "             colonia       municipio            estado  \n",
       "0    Del Valle Norte   Benito Juárez  Distrito Federal  \n",
       "1              Zákia      El Marqués         Querétaro  \n",
       "2             Loreto  Alvaro Obregón  Distrito Federal  \n",
       "3      Independencia   Benito Juárez  Distrito Federal  \n",
       "4  Parque San Andrés        Coyoacán  Distrito Federal  "
      ]
     },
     "execution_count": 48,
     "metadata": {},
     "output_type": "execute_result"
    }
   ],
   "source": [
    "df.head()"
   ]
  },
  {
   "cell_type": "code",
   "execution_count": 49,
   "id": "a0468093-274e-4f9a-bf9f-7bb4ec5a5658",
   "metadata": {},
   "outputs": [],
   "source": [
    "#df.drop(\"Unnamed: 0\", inplace=True, axis=1)\n"
   ]
  },
  {
   "cell_type": "code",
   "execution_count": 50,
   "id": "e89eb830-feec-4885-97c3-336ad6231525",
   "metadata": {},
   "outputs": [],
   "source": [
    "df.to_csv(\"deptos_mercado_libre_full_clean.csv\")"
   ]
  },
  {
   "cell_type": "markdown",
   "id": "62a70e9c-142e-43d1-8378-a364979aceb7",
   "metadata": {},
   "source": [
    "---"
   ]
  },
  {
   "cell_type": "markdown",
   "id": "51c076b3-18ac-442f-99a4-93a624566987",
   "metadata": {},
   "source": [
    "# Carga de datos con API de SQL"
   ]
  },
  {
   "cell_type": "code",
   "execution_count": null,
   "id": "b15027c2-9925-4c3a-b98b-749197dec51a",
   "metadata": {},
   "outputs": [],
   "source": [
    "import postgres\n",
    "import psycopg2"
   ]
  },
  {
   "cell_type": "markdown",
   "id": "6685d0fd-c1ce-4db3-9349-711b4615870d",
   "metadata": {},
   "source": [
    "Información de la base en ElephantSQL: https://api.elephantsql.com/console/cc7a0605-0a78-4657-8047-3f9d479faba7/details"
   ]
  },
  {
   "cell_type": "markdown",
   "id": "9ed54751-445f-4354-96f2-dc66163ff8d1",
   "metadata": {},
   "source": [
    "### Conector"
   ]
  },
  {
   "cell_type": "code",
   "execution_count": null,
   "id": "09a226c7-7711-4058-b0c2-ae8eee5f8a9d",
   "metadata": {},
   "outputs": [],
   "source": [
    "config = {'host':'castor.db.elephantsql.com',\n",
    "                             'user':'xidnzmgq',\n",
    "                             'password':'x2vRkaLOyY6Fxzid-W0mzsE001tMmeRE',\n",
    "                             'database':'xidnzmgq'}\n",
    "\n",
    "def get_connection(config):\n",
    "\n",
    "    return psycopg2.connect(**config)"
   ]
  },
  {
   "cell_type": "markdown",
   "id": "b24d6a1a-8351-4adb-9989-c7c46baa65a3",
   "metadata": {},
   "source": [
    "### Creamos la tabla"
   ]
  },
  {
   "cell_type": "code",
   "execution_count": null,
   "id": "bdbbf133-abfd-430e-9b39-e988768ade3f",
   "metadata": {},
   "outputs": [],
   "source": [
    "conn= get_connection(config)\n",
    "\n",
    "\n",
    "# Creamos una consulta para generar la tabla \n",
    "\n",
    "create_table_deptos = \"CREATE TABLE DataDeptos (titulos varchar(50),superficie int(50),recamaras int(50),precio int(50),ubicacion varchar(50),calle varchar(50), colonia varchar(50),municipio varchar(50),estado varchar(50))\"\n",
    "\n",
    "# Necesitamos enviar la orden/consulta anterior por medio de un cursor. \n",
    "\n",
    "db_cursor = conn.cursor()\n",
    "\n",
    "# Ejecutamos la consulta\n",
    "\n",
    "db_cursor.execute(create_table_deptos)\n",
    "\n",
    "\n",
    "# Guardamos los cambios\n",
    "\n",
    "conn.commit()\n",
    "# Cerramos\n",
    "db_cursor.close()\n",
    "conn.close()"
   ]
  },
  {
   "cell_type": "markdown",
   "id": "9cc5e8d0-1fe3-479d-8cc6-73225fb48849",
   "metadata": {},
   "source": [
    "## Introducción de los datos"
   ]
  },
  {
   "cell_type": "code",
   "execution_count": null,
   "id": "08bafc4f-1faf-4b17-9ae1-50cbbece714b",
   "metadata": {},
   "outputs": [],
   "source": [
    "def insert_depto(df):\n",
    "    \n",
    "    #Abrimos las conecciones\n",
    "    \n",
    "    conn= get_connection(config)\n",
    "\n",
    "    db_cursor = conn.cursor()\n",
    "\n",
    "    # Consulta para insertar los datos\n",
    "\n",
    "    insert_query = \"INSERT INTO UserData (titulos, superficie, recamaras, precio, ubicacion, calle, colonia, municipio, estado) VALUES (%s,%s,%s,%s,%s,%s,%s,%s,%s)\"\n",
    "    \n",
    "    for i in range(len(df.index)):\n",
    "        \n",
    "        parametros = (df.iloc[i][0],df.iloc[i][1],df.iloc[i][2])\n",
    "        db_cursor.execute(insert_query,parametros)\n",
    "\n",
    "    # Guardamos los cambios\n",
    "\n",
    "    conn.commit()\n",
    "\n",
    "    # Cerramos\n",
    "\n",
    "    db_cursor.close()\n",
    "    conn.close()"
   ]
  },
  {
   "cell_type": "code",
   "execution_count": null,
   "id": "5169ff13-c02c-49a9-8959-a9216375d274",
   "metadata": {},
   "outputs": [],
   "source": []
  }
 ],
 "metadata": {
  "kernelspec": {
   "display_name": "Python 3 (ipykernel)",
   "language": "python",
   "name": "python3"
  },
  "language_info": {
   "codemirror_mode": {
    "name": "ipython",
    "version": 3
   },
   "file_extension": ".py",
   "mimetype": "text/x-python",
   "name": "python",
   "nbconvert_exporter": "python",
   "pygments_lexer": "ipython3",
   "version": "3.9.11"
  }
 },
 "nbformat": 4,
 "nbformat_minor": 5
}
