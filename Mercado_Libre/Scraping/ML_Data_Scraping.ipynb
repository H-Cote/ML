{
 "cells": [
  {
   "cell_type": "code",
   "execution_count": 1,
   "id": "a2a85ca4-29f3-4445-89e5-83a191efbe0c",
   "metadata": {},
   "outputs": [],
   "source": [
    "from selenium import webdriver\n",
    "\n",
    "import numpy as np\n",
    "import pandas as pd"
   ]
  },
  {
   "cell_type": "markdown",
   "id": "c0beac5f-519c-468e-ba48-f6c22ea9f174",
   "metadata": {},
   "source": [
    "### Data Scraping"
   ]
  },
  {
   "cell_type": "code",
   "execution_count": 2,
   "id": "760b6735-71a8-4545-a28c-02d61d95d4fd",
   "metadata": {},
   "outputs": [
    {
     "name": "stderr",
     "output_type": "stream",
     "text": [
      "/tmp/ipykernel_37448/4216140200.py:1: DeprecationWarning: executable_path has been deprecated, please pass in a Service object\n",
      "  driver = webdriver.Firefox(executable_path= './geckodriver')\n"
     ]
    },
    {
     "ename": "WebDriverException",
     "evalue": "Message: 'geckodriver' executable needs to be in PATH. \n",
     "output_type": "error",
     "traceback": [
      "\u001b[0;31m---------------------------------------------------------------------------\u001b[0m",
      "\u001b[0;31mFileNotFoundError\u001b[0m                         Traceback (most recent call last)",
      "File \u001b[0;32m~/anaconda3/envs/cursos/lib/python3.9/site-packages/selenium/webdriver/common/service.py:71\u001b[0m, in \u001b[0;36mService.start\u001b[0;34m(self)\u001b[0m\n\u001b[1;32m     70\u001b[0m     cmd\u001b[38;5;241m.\u001b[39mextend(\u001b[38;5;28mself\u001b[39m\u001b[38;5;241m.\u001b[39mcommand_line_args())\n\u001b[0;32m---> 71\u001b[0m     \u001b[38;5;28mself\u001b[39m\u001b[38;5;241m.\u001b[39mprocess \u001b[38;5;241m=\u001b[39m \u001b[43msubprocess\u001b[49m\u001b[38;5;241;43m.\u001b[39;49m\u001b[43mPopen\u001b[49m\u001b[43m(\u001b[49m\u001b[43mcmd\u001b[49m\u001b[43m,\u001b[49m\u001b[43m \u001b[49m\u001b[43menv\u001b[49m\u001b[38;5;241;43m=\u001b[39;49m\u001b[38;5;28;43mself\u001b[39;49m\u001b[38;5;241;43m.\u001b[39;49m\u001b[43menv\u001b[49m\u001b[43m,\u001b[49m\n\u001b[1;32m     72\u001b[0m \u001b[43m                                    \u001b[49m\u001b[43mclose_fds\u001b[49m\u001b[38;5;241;43m=\u001b[39;49m\u001b[43msystem\u001b[49m\u001b[43m(\u001b[49m\u001b[43m)\u001b[49m\u001b[43m \u001b[49m\u001b[38;5;241;43m!=\u001b[39;49m\u001b[43m \u001b[49m\u001b[38;5;124;43m'\u001b[39;49m\u001b[38;5;124;43mWindows\u001b[39;49m\u001b[38;5;124;43m'\u001b[39;49m\u001b[43m,\u001b[49m\n\u001b[1;32m     73\u001b[0m \u001b[43m                                    \u001b[49m\u001b[43mstdout\u001b[49m\u001b[38;5;241;43m=\u001b[39;49m\u001b[38;5;28;43mself\u001b[39;49m\u001b[38;5;241;43m.\u001b[39;49m\u001b[43mlog_file\u001b[49m\u001b[43m,\u001b[49m\n\u001b[1;32m     74\u001b[0m \u001b[43m                                    \u001b[49m\u001b[43mstderr\u001b[49m\u001b[38;5;241;43m=\u001b[39;49m\u001b[38;5;28;43mself\u001b[39;49m\u001b[38;5;241;43m.\u001b[39;49m\u001b[43mlog_file\u001b[49m\u001b[43m,\u001b[49m\n\u001b[1;32m     75\u001b[0m \u001b[43m                                    \u001b[49m\u001b[43mstdin\u001b[49m\u001b[38;5;241;43m=\u001b[39;49m\u001b[43mPIPE\u001b[49m\u001b[43m,\u001b[49m\n\u001b[1;32m     76\u001b[0m \u001b[43m                                    \u001b[49m\u001b[43mcreationflags\u001b[49m\u001b[38;5;241;43m=\u001b[39;49m\u001b[38;5;28;43mself\u001b[39;49m\u001b[38;5;241;43m.\u001b[39;49m\u001b[43mcreationflags\u001b[49m\u001b[43m)\u001b[49m\n\u001b[1;32m     77\u001b[0m \u001b[38;5;28;01mexcept\u001b[39;00m \u001b[38;5;167;01mTypeError\u001b[39;00m:\n",
      "File \u001b[0;32m~/anaconda3/envs/cursos/lib/python3.9/subprocess.py:951\u001b[0m, in \u001b[0;36mPopen.__init__\u001b[0;34m(self, args, bufsize, executable, stdin, stdout, stderr, preexec_fn, close_fds, shell, cwd, env, universal_newlines, startupinfo, creationflags, restore_signals, start_new_session, pass_fds, user, group, extra_groups, encoding, errors, text, umask)\u001b[0m\n\u001b[1;32m    948\u001b[0m             \u001b[38;5;28mself\u001b[39m\u001b[38;5;241m.\u001b[39mstderr \u001b[38;5;241m=\u001b[39m io\u001b[38;5;241m.\u001b[39mTextIOWrapper(\u001b[38;5;28mself\u001b[39m\u001b[38;5;241m.\u001b[39mstderr,\n\u001b[1;32m    949\u001b[0m                     encoding\u001b[38;5;241m=\u001b[39mencoding, errors\u001b[38;5;241m=\u001b[39merrors)\n\u001b[0;32m--> 951\u001b[0m     \u001b[38;5;28;43mself\u001b[39;49m\u001b[38;5;241;43m.\u001b[39;49m\u001b[43m_execute_child\u001b[49m\u001b[43m(\u001b[49m\u001b[43margs\u001b[49m\u001b[43m,\u001b[49m\u001b[43m \u001b[49m\u001b[43mexecutable\u001b[49m\u001b[43m,\u001b[49m\u001b[43m \u001b[49m\u001b[43mpreexec_fn\u001b[49m\u001b[43m,\u001b[49m\u001b[43m \u001b[49m\u001b[43mclose_fds\u001b[49m\u001b[43m,\u001b[49m\n\u001b[1;32m    952\u001b[0m \u001b[43m                        \u001b[49m\u001b[43mpass_fds\u001b[49m\u001b[43m,\u001b[49m\u001b[43m \u001b[49m\u001b[43mcwd\u001b[49m\u001b[43m,\u001b[49m\u001b[43m \u001b[49m\u001b[43menv\u001b[49m\u001b[43m,\u001b[49m\n\u001b[1;32m    953\u001b[0m \u001b[43m                        \u001b[49m\u001b[43mstartupinfo\u001b[49m\u001b[43m,\u001b[49m\u001b[43m \u001b[49m\u001b[43mcreationflags\u001b[49m\u001b[43m,\u001b[49m\u001b[43m \u001b[49m\u001b[43mshell\u001b[49m\u001b[43m,\u001b[49m\n\u001b[1;32m    954\u001b[0m \u001b[43m                        \u001b[49m\u001b[43mp2cread\u001b[49m\u001b[43m,\u001b[49m\u001b[43m \u001b[49m\u001b[43mp2cwrite\u001b[49m\u001b[43m,\u001b[49m\n\u001b[1;32m    955\u001b[0m \u001b[43m                        \u001b[49m\u001b[43mc2pread\u001b[49m\u001b[43m,\u001b[49m\u001b[43m \u001b[49m\u001b[43mc2pwrite\u001b[49m\u001b[43m,\u001b[49m\n\u001b[1;32m    956\u001b[0m \u001b[43m                        \u001b[49m\u001b[43merrread\u001b[49m\u001b[43m,\u001b[49m\u001b[43m \u001b[49m\u001b[43merrwrite\u001b[49m\u001b[43m,\u001b[49m\n\u001b[1;32m    957\u001b[0m \u001b[43m                        \u001b[49m\u001b[43mrestore_signals\u001b[49m\u001b[43m,\u001b[49m\n\u001b[1;32m    958\u001b[0m \u001b[43m                        \u001b[49m\u001b[43mgid\u001b[49m\u001b[43m,\u001b[49m\u001b[43m \u001b[49m\u001b[43mgids\u001b[49m\u001b[43m,\u001b[49m\u001b[43m \u001b[49m\u001b[43muid\u001b[49m\u001b[43m,\u001b[49m\u001b[43m \u001b[49m\u001b[43mumask\u001b[49m\u001b[43m,\u001b[49m\n\u001b[1;32m    959\u001b[0m \u001b[43m                        \u001b[49m\u001b[43mstart_new_session\u001b[49m\u001b[43m)\u001b[49m\n\u001b[1;32m    960\u001b[0m \u001b[38;5;28;01mexcept\u001b[39;00m:\n\u001b[1;32m    961\u001b[0m     \u001b[38;5;66;03m# Cleanup if the child failed starting.\u001b[39;00m\n",
      "File \u001b[0;32m~/anaconda3/envs/cursos/lib/python3.9/subprocess.py:1821\u001b[0m, in \u001b[0;36mPopen._execute_child\u001b[0;34m(self, args, executable, preexec_fn, close_fds, pass_fds, cwd, env, startupinfo, creationflags, shell, p2cread, p2cwrite, c2pread, c2pwrite, errread, errwrite, restore_signals, gid, gids, uid, umask, start_new_session)\u001b[0m\n\u001b[1;32m   1820\u001b[0m         err_msg \u001b[38;5;241m=\u001b[39m os\u001b[38;5;241m.\u001b[39mstrerror(errno_num)\n\u001b[0;32m-> 1821\u001b[0m     \u001b[38;5;28;01mraise\u001b[39;00m child_exception_type(errno_num, err_msg, err_filename)\n\u001b[1;32m   1822\u001b[0m \u001b[38;5;28;01mraise\u001b[39;00m child_exception_type(err_msg)\n",
      "\u001b[0;31mFileNotFoundError\u001b[0m: [Errno 2] No such file or directory: './geckodriver'",
      "\nDuring handling of the above exception, another exception occurred:\n",
      "\u001b[0;31mWebDriverException\u001b[0m                        Traceback (most recent call last)",
      "Input \u001b[0;32mIn [2]\u001b[0m, in \u001b[0;36m<cell line: 1>\u001b[0;34m()\u001b[0m\n\u001b[0;32m----> 1\u001b[0m driver \u001b[38;5;241m=\u001b[39m \u001b[43mwebdriver\u001b[49m\u001b[38;5;241;43m.\u001b[39;49m\u001b[43mFirefox\u001b[49m\u001b[43m(\u001b[49m\u001b[43mexecutable_path\u001b[49m\u001b[38;5;241;43m=\u001b[39;49m\u001b[43m \u001b[49m\u001b[38;5;124;43m'\u001b[39;49m\u001b[38;5;124;43m./geckodriver\u001b[39;49m\u001b[38;5;124;43m'\u001b[39;49m\u001b[43m)\u001b[49m\n",
      "File \u001b[0;32m~/anaconda3/envs/cursos/lib/python3.9/site-packages/selenium/webdriver/firefox/webdriver.py:172\u001b[0m, in \u001b[0;36mWebDriver.__init__\u001b[0;34m(self, firefox_profile, firefox_binary, capabilities, proxy, executable_path, options, service_log_path, service_args, service, desired_capabilities, log_path, keep_alive)\u001b[0m\n\u001b[1;32m    167\u001b[0m \u001b[38;5;28;01mif\u001b[39;00m \u001b[38;5;129;01mnot\u001b[39;00m \u001b[38;5;28mself\u001b[39m\u001b[38;5;241m.\u001b[39mservice:\n\u001b[1;32m    168\u001b[0m     \u001b[38;5;28mself\u001b[39m\u001b[38;5;241m.\u001b[39mservice \u001b[38;5;241m=\u001b[39m Service(\n\u001b[1;32m    169\u001b[0m         executable_path,\n\u001b[1;32m    170\u001b[0m         service_args\u001b[38;5;241m=\u001b[39mservice_args,\n\u001b[1;32m    171\u001b[0m         log_path\u001b[38;5;241m=\u001b[39mservice_log_path)\n\u001b[0;32m--> 172\u001b[0m \u001b[38;5;28;43mself\u001b[39;49m\u001b[38;5;241;43m.\u001b[39;49m\u001b[43mservice\u001b[49m\u001b[38;5;241;43m.\u001b[39;49m\u001b[43mstart\u001b[49m\u001b[43m(\u001b[49m\u001b[43m)\u001b[49m\n\u001b[1;32m    174\u001b[0m executor \u001b[38;5;241m=\u001b[39m FirefoxRemoteConnection(\n\u001b[1;32m    175\u001b[0m     remote_server_addr\u001b[38;5;241m=\u001b[39m\u001b[38;5;28mself\u001b[39m\u001b[38;5;241m.\u001b[39mservice\u001b[38;5;241m.\u001b[39mservice_url,\n\u001b[1;32m    176\u001b[0m     ignore_proxy\u001b[38;5;241m=\u001b[39moptions\u001b[38;5;241m.\u001b[39m_ignore_local_proxy)\n\u001b[1;32m    177\u001b[0m RemoteWebDriver\u001b[38;5;241m.\u001b[39m\u001b[38;5;21m__init__\u001b[39m(\n\u001b[1;32m    178\u001b[0m     \u001b[38;5;28mself\u001b[39m,\n\u001b[1;32m    179\u001b[0m     command_executor\u001b[38;5;241m=\u001b[39mexecutor,\n\u001b[1;32m    180\u001b[0m     options\u001b[38;5;241m=\u001b[39moptions,\n\u001b[1;32m    181\u001b[0m     keep_alive\u001b[38;5;241m=\u001b[39m\u001b[38;5;28;01mTrue\u001b[39;00m)\n",
      "File \u001b[0;32m~/anaconda3/envs/cursos/lib/python3.9/site-packages/selenium/webdriver/common/service.py:81\u001b[0m, in \u001b[0;36mService.start\u001b[0;34m(self)\u001b[0m\n\u001b[1;32m     79\u001b[0m \u001b[38;5;28;01mexcept\u001b[39;00m \u001b[38;5;167;01mOSError\u001b[39;00m \u001b[38;5;28;01mas\u001b[39;00m err:\n\u001b[1;32m     80\u001b[0m     \u001b[38;5;28;01mif\u001b[39;00m err\u001b[38;5;241m.\u001b[39merrno \u001b[38;5;241m==\u001b[39m errno\u001b[38;5;241m.\u001b[39mENOENT:\n\u001b[0;32m---> 81\u001b[0m         \u001b[38;5;28;01mraise\u001b[39;00m WebDriverException(\n\u001b[1;32m     82\u001b[0m             \u001b[38;5;124m\"\u001b[39m\u001b[38;5;124m'\u001b[39m\u001b[38;5;132;01m%s\u001b[39;00m\u001b[38;5;124m'\u001b[39m\u001b[38;5;124m executable needs to be in PATH. \u001b[39m\u001b[38;5;132;01m%s\u001b[39;00m\u001b[38;5;124m\"\u001b[39m \u001b[38;5;241m%\u001b[39m (\n\u001b[1;32m     83\u001b[0m                 os\u001b[38;5;241m.\u001b[39mpath\u001b[38;5;241m.\u001b[39mbasename(\u001b[38;5;28mself\u001b[39m\u001b[38;5;241m.\u001b[39mpath), \u001b[38;5;28mself\u001b[39m\u001b[38;5;241m.\u001b[39mstart_error_message)\n\u001b[1;32m     84\u001b[0m         )\n\u001b[1;32m     85\u001b[0m     \u001b[38;5;28;01melif\u001b[39;00m err\u001b[38;5;241m.\u001b[39merrno \u001b[38;5;241m==\u001b[39m errno\u001b[38;5;241m.\u001b[39mEACCES:\n\u001b[1;32m     86\u001b[0m         \u001b[38;5;28;01mraise\u001b[39;00m WebDriverException(\n\u001b[1;32m     87\u001b[0m             \u001b[38;5;124m\"\u001b[39m\u001b[38;5;124m'\u001b[39m\u001b[38;5;132;01m%s\u001b[39;00m\u001b[38;5;124m'\u001b[39m\u001b[38;5;124m executable may have wrong permissions. \u001b[39m\u001b[38;5;132;01m%s\u001b[39;00m\u001b[38;5;124m\"\u001b[39m \u001b[38;5;241m%\u001b[39m (\n\u001b[1;32m     88\u001b[0m                 os\u001b[38;5;241m.\u001b[39mpath\u001b[38;5;241m.\u001b[39mbasename(\u001b[38;5;28mself\u001b[39m\u001b[38;5;241m.\u001b[39mpath), \u001b[38;5;28mself\u001b[39m\u001b[38;5;241m.\u001b[39mstart_error_message)\n\u001b[1;32m     89\u001b[0m         )\n",
      "\u001b[0;31mWebDriverException\u001b[0m: Message: 'geckodriver' executable needs to be in PATH. \n"
     ]
    }
   ],
   "source": [
    "driver = webdriver.Firefox(executable_path= './geckodriver')"
   ]
  },
  {
   "cell_type": "code",
   "execution_count": 3,
   "id": "d9226e4d-7a9a-4d92-9247-caeb4b58978e",
   "metadata": {},
   "outputs": [],
   "source": [
    "url = \"https://inmuebles.mercadolibre.com.mx/departamentos/renta/inmuebles_NoIndex_True\""
   ]
  },
  {
   "cell_type": "code",
   "execution_count": 4,
   "id": "84f19a68-19c8-41cb-a11a-eb3d1ab5e19d",
   "metadata": {},
   "outputs": [],
   "source": [
    "# Hacemos que el navegador ingrese a la página web.\n",
    "\n",
    "driver.get(url)"
   ]
  },
  {
   "cell_type": "code",
   "execution_count": 5,
   "id": "707a19d9-44d2-4700-b890-7be5e96f02e5",
   "metadata": {},
   "outputs": [],
   "source": [
    "#Obtenemos el código HTML de la página. \n",
    "\n",
    "html_code = driver.page_source"
   ]
  },
  {
   "cell_type": "code",
   "execution_count": 6,
   "id": "3c837a5e-1c84-4be9-a4c2-95ee0c3f673e",
   "metadata": {},
   "outputs": [],
   "source": [
    "from bs4 import BeautifulSoup"
   ]
  },
  {
   "cell_type": "code",
   "execution_count": 7,
   "id": "34566caa-96ad-4a06-8781-f9e8082741f6",
   "metadata": {},
   "outputs": [],
   "source": [
    "#!pip install lxml\n"
   ]
  },
  {
   "cell_type": "code",
   "execution_count": 8,
   "id": "6021784d-46ad-4df0-91f7-30a6df66ef13",
   "metadata": {},
   "outputs": [],
   "source": [
    "#soup = BeautifulSoup(r.content,\"html.parser\")\n",
    "\n",
    "soup = BeautifulSoup(html_code,\"lxml\")"
   ]
  },
  {
   "cell_type": "code",
   "execution_count": 9,
   "id": "fbffcaa9-c7db-4824-a089-23447cd55c77",
   "metadata": {},
   "outputs": [],
   "source": [
    "\n",
    "# titulos = soup.find_all(\"h2\",attrs={\"class\":\"ui-search-item__title\"})\n",
    "\n",
    "all_house=soup.find_all(\"li\", class_= \"ui-search-layout__item\")"
   ]
  },
  {
   "cell_type": "code",
   "execution_count": 10,
   "id": "400b1c2c-6c4f-4437-9c35-476fd366eeb3",
   "metadata": {},
   "outputs": [
    {
     "data": {
      "text/plain": [
       "48"
      ]
     },
     "execution_count": 10,
     "metadata": {},
     "output_type": "execute_result"
    }
   ],
   "source": [
    "len(all_house)"
   ]
  },
  {
   "cell_type": "code",
   "execution_count": 11,
   "id": "5a33c829-3662-4950-8bbb-6495b4e88435",
   "metadata": {},
   "outputs": [
    {
     "data": {
      "text/plain": [
       "<li class=\"ui-search-layout__item\"><div class=\"ui-search-result__wrapper\"><div class=\"andes-card andes-card--flat andes-card--default ui-search-result ui-search-result--res andes-card--padding-default andes-card--animated\"><div class=\"ui-search-result__image\"><a class=\"ui-search-link\" href=\"https://departamento.mercadolibre.com.mx/MLM-1367958052-super-ubicado-moderno-metrobus-escuelas-hospitales-_JM#position=1&amp;search_layout=grid&amp;type=item&amp;tracking_id=549c6138-b7d0-493e-b7f0-70308aef4fd0\" target=\"_blank\" title=\"Departamento en renta\"><div class=\"carousel-container arrow-visible\"><div class=\"slick-initialized slick-slider\"><div class=\"slick-list\" role=\"presentation\"><div class=\"slick-track\"><div class=\"slick-slide slick-active\" data-index=\"0\" style=\"outline:none\" tabindex=\"-1\"><img alt=\"Departamento en renta\" class=\"ui-search-result-image__element\" height=\"159\" src=\"https://http2.mlstatic.com/D_NQ_NP_866287-MLM49096103980_022022-W.webp\" width=\"284\"/></div></div></div></div></div></a></div><a class=\"ui-search-result__content ui-search-link\" href=\"https://departamento.mercadolibre.com.mx/MLM-1367958052-super-ubicado-moderno-metrobus-escuelas-hospitales-_JM#position=1&amp;search_layout=grid&amp;type=item&amp;tracking_id=549c6138-b7d0-493e-b7f0-70308aef4fd0\" target=\"_blank\" title=\"Departamento en renta\"><div class=\"ui-search-result__content-wrapper\"><div class=\"ui-search-item__group ui-search-item__group--price\"><div class=\"ui-search-item__group__element ui-search-price__part-without-link\"><div class=\"ui-search-price ui-search-price--size-medium\"><div class=\"ui-search-price__second-line\"><span class=\"price-tag ui-search-price__part\"><span class=\"price-tag-text-sr-only\">20000 pesos</span><span aria-hidden=\"true\" class=\"price-tag-amount\"><span class=\"price-tag-symbol\">$</span><span class=\"price-tag-fraction\">20,000</span></span></span></div></div></div></div><div class=\"ui-search-item__group ui-search-item__group--attributes\"><ul class=\"ui-search-card-attributes ui-search-item__group__element\"><li class=\"ui-search-card-attributes__attribute\">119 m² construidos</li><li class=\"ui-search-card-attributes__attribute\">3 recs.</li></ul></div><div class=\"ui-search-item__group ui-search-item__group--title\"><span class=\"ui-search-item__group__element ui-search-item__subtitle\">Departamento en renta</span><h2 class=\"ui-search-item__title ui-search-item__group__element\">Súper Ubicado, Moderno, Metrobús, Escuelas, Hospitales.</h2></div><div class=\"ui-search-item__group ui-search-item__group--location\"><span class=\"ui-search-item__group__element ui-search-item__location\">Gabriel Mancera, Del Valle Norte, Benito Juárez, Distrito Federal</span></div></div></a><div class=\"ui-search-result__bookmark\"><form action=\"/search/bookmarks/MLM1367958052\" class=\"ui-search-bookmark\" method=\"POST\"><button aria-checked=\"false\" aria-label=\"Favorito\" class=\"ui-search-bookmark__btn\" role=\"switch\" type=\"submit\"><svg class=\"ui-search-icon ui-search-icon--bookmark ui-search-bookmark__icon-bookmark\" viewbox=\"0 0 22 20\" xmlns=\"http://www.w3.org/2000/svg\"><use href=\"#bookmark\"></use></svg><svg class=\"ui-search-icon ui-search-icon--bookmark ui-search-bookmark__icon-bookmark-fill\" viewbox=\"0 0 22 20\" xmlns=\"http://www.w3.org/2000/svg\"><use href=\"#bookmark\"></use></svg></button><input name=\"logginUrl\" type=\"hidden\" value=\"https://www.mercadolibre.com/jms/mlm/lgz/login?platform_id=ML&amp;go=https%3A%2F%2Finmuebles.mercadolibre.com.mx%2Fdepartamentos%2Frenta%2Finmuebles_NoIndex_True&amp;loginType=explicit\"/><input name=\"_csrf\" type=\"hidden\" value=\"tGrDkda3-0-HslW9EZ4WPtB8RXQVXEteIViY\"/><input name=\"method\" type=\"hidden\" value=\"add\"/><input name=\"itemId\" type=\"hidden\" value=\"MLM1367958052\"/></form></div></div></div></li>"
      ]
     },
     "execution_count": 11,
     "metadata": {},
     "output_type": "execute_result"
    }
   ],
   "source": [
    "all_house[0]"
   ]
  },
  {
   "cell_type": "markdown",
   "id": "07d1c690-0171-4e1a-9309-e1da8abc8da1",
   "metadata": {},
   "source": [
    "### Imágenes"
   ]
  },
  {
   "cell_type": "code",
   "execution_count": 12,
   "id": "f824635f-deb1-4400-9b99-c8b9f6765d8b",
   "metadata": {},
   "outputs": [],
   "source": [
    "house_1 = all_house[0]"
   ]
  },
  {
   "cell_type": "code",
   "execution_count": 13,
   "id": "6243620b-e809-4c3d-97a7-4e0e6e911a4d",
   "metadata": {},
   "outputs": [
    {
     "data": {
      "text/plain": [
       "<img alt=\"Departamento en renta\" class=\"ui-search-result-image__element\" height=\"159\" src=\"https://http2.mlstatic.com/D_NQ_NP_866287-MLM49096103980_022022-W.webp\" width=\"284\"/>"
      ]
     },
     "execution_count": 13,
     "metadata": {},
     "output_type": "execute_result"
    }
   ],
   "source": [
    "house_1.find(\"img\")"
   ]
  },
  {
   "cell_type": "code",
   "execution_count": 14,
   "id": "c1482966-8627-49a4-bc0c-767e3534e488",
   "metadata": {},
   "outputs": [
    {
     "data": {
      "text/plain": [
       "'https://http2.mlstatic.com/D_NQ_NP_866287-MLM49096103980_022022-W.webp'"
      ]
     },
     "execution_count": 14,
     "metadata": {},
     "output_type": "execute_result"
    }
   ],
   "source": [
    "#house_1.find(\"img\").get(\"src\")\n",
    "\n",
    "house_1.find(\"img\")[\"src\"]"
   ]
  },
  {
   "cell_type": "code",
   "execution_count": 15,
   "id": "aabaabf7-ea78-4dae-8431-c2e5ff329301",
   "metadata": {},
   "outputs": [
    {
     "name": "stdout",
     "output_type": "stream",
     "text": [
      "https://http2.mlstatic.com/D_NQ_NP_866287-MLM49096103980_022022-W.webp\n",
      "https://http2.mlstatic.com/D_NQ_NP_693487-MLM49304246928_032022-W.webp\n",
      "https://http2.mlstatic.com/D_NQ_NP_891309-MLM49206818980_022022-W.webp\n",
      "https://http2.mlstatic.com/D_NQ_NP_799707-MLM49913162204_052022-W.webp\n",
      "https://http2.mlstatic.com/D_NQ_NP_649773-MLM49185383929_022022-W.webp\n",
      "https://http2.mlstatic.com/D_NQ_NP_963301-MLM49581283838_042022-W.webp\n",
      "data:image/gif;base64,R0lGODlhAQABAIAAAAAAAP///yH5BAEAAAAALAAAAAABAAEAAAIBRAA7\n",
      "data:image/gif;base64,R0lGODlhAQABAIAAAAAAAP///yH5BAEAAAAALAAAAAABAAEAAAIBRAA7\n",
      "data:image/gif;base64,R0lGODlhAQABAIAAAAAAAP///yH5BAEAAAAALAAAAAABAAEAAAIBRAA7\n",
      "data:image/gif;base64,R0lGODlhAQABAIAAAAAAAP///yH5BAEAAAAALAAAAAABAAEAAAIBRAA7\n",
      "data:image/gif;base64,R0lGODlhAQABAIAAAAAAAP///yH5BAEAAAAALAAAAAABAAEAAAIBRAA7\n",
      "data:image/gif;base64,R0lGODlhAQABAIAAAAAAAP///yH5BAEAAAAALAAAAAABAAEAAAIBRAA7\n",
      "data:image/gif;base64,R0lGODlhAQABAIAAAAAAAP///yH5BAEAAAAALAAAAAABAAEAAAIBRAA7\n",
      "data:image/gif;base64,R0lGODlhAQABAIAAAAAAAP///yH5BAEAAAAALAAAAAABAAEAAAIBRAA7\n",
      "data:image/gif;base64,R0lGODlhAQABAIAAAAAAAP///yH5BAEAAAAALAAAAAABAAEAAAIBRAA7\n",
      "data:image/gif;base64,R0lGODlhAQABAIAAAAAAAP///yH5BAEAAAAALAAAAAABAAEAAAIBRAA7\n",
      "data:image/gif;base64,R0lGODlhAQABAIAAAAAAAP///yH5BAEAAAAALAAAAAABAAEAAAIBRAA7\n",
      "data:image/gif;base64,R0lGODlhAQABAIAAAAAAAP///yH5BAEAAAAALAAAAAABAAEAAAIBRAA7\n",
      "data:image/gif;base64,R0lGODlhAQABAIAAAAAAAP///yH5BAEAAAAALAAAAAABAAEAAAIBRAA7\n",
      "data:image/gif;base64,R0lGODlhAQABAIAAAAAAAP///yH5BAEAAAAALAAAAAABAAEAAAIBRAA7\n",
      "data:image/gif;base64,R0lGODlhAQABAIAAAAAAAP///yH5BAEAAAAALAAAAAABAAEAAAIBRAA7\n",
      "data:image/gif;base64,R0lGODlhAQABAIAAAAAAAP///yH5BAEAAAAALAAAAAABAAEAAAIBRAA7\n",
      "data:image/gif;base64,R0lGODlhAQABAIAAAAAAAP///yH5BAEAAAAALAAAAAABAAEAAAIBRAA7\n",
      "data:image/gif;base64,R0lGODlhAQABAIAAAAAAAP///yH5BAEAAAAALAAAAAABAAEAAAIBRAA7\n",
      "data:image/gif;base64,R0lGODlhAQABAIAAAAAAAP///yH5BAEAAAAALAAAAAABAAEAAAIBRAA7\n",
      "data:image/gif;base64,R0lGODlhAQABAIAAAAAAAP///yH5BAEAAAAALAAAAAABAAEAAAIBRAA7\n",
      "data:image/gif;base64,R0lGODlhAQABAIAAAAAAAP///yH5BAEAAAAALAAAAAABAAEAAAIBRAA7\n",
      "data:image/gif;base64,R0lGODlhAQABAIAAAAAAAP///yH5BAEAAAAALAAAAAABAAEAAAIBRAA7\n",
      "data:image/gif;base64,R0lGODlhAQABAIAAAAAAAP///yH5BAEAAAAALAAAAAABAAEAAAIBRAA7\n",
      "data:image/gif;base64,R0lGODlhAQABAIAAAAAAAP///yH5BAEAAAAALAAAAAABAAEAAAIBRAA7\n",
      "data:image/gif;base64,R0lGODlhAQABAIAAAAAAAP///yH5BAEAAAAALAAAAAABAAEAAAIBRAA7\n",
      "data:image/gif;base64,R0lGODlhAQABAIAAAAAAAP///yH5BAEAAAAALAAAAAABAAEAAAIBRAA7\n",
      "data:image/gif;base64,R0lGODlhAQABAIAAAAAAAP///yH5BAEAAAAALAAAAAABAAEAAAIBRAA7\n",
      "data:image/gif;base64,R0lGODlhAQABAIAAAAAAAP///yH5BAEAAAAALAAAAAABAAEAAAIBRAA7\n",
      "data:image/gif;base64,R0lGODlhAQABAIAAAAAAAP///yH5BAEAAAAALAAAAAABAAEAAAIBRAA7\n",
      "data:image/gif;base64,R0lGODlhAQABAIAAAAAAAP///yH5BAEAAAAALAAAAAABAAEAAAIBRAA7\n",
      "data:image/gif;base64,R0lGODlhAQABAIAAAAAAAP///yH5BAEAAAAALAAAAAABAAEAAAIBRAA7\n",
      "data:image/gif;base64,R0lGODlhAQABAIAAAAAAAP///yH5BAEAAAAALAAAAAABAAEAAAIBRAA7\n",
      "data:image/gif;base64,R0lGODlhAQABAIAAAAAAAP///yH5BAEAAAAALAAAAAABAAEAAAIBRAA7\n",
      "data:image/gif;base64,R0lGODlhAQABAIAAAAAAAP///yH5BAEAAAAALAAAAAABAAEAAAIBRAA7\n",
      "data:image/gif;base64,R0lGODlhAQABAIAAAAAAAP///yH5BAEAAAAALAAAAAABAAEAAAIBRAA7\n",
      "data:image/gif;base64,R0lGODlhAQABAIAAAAAAAP///yH5BAEAAAAALAAAAAABAAEAAAIBRAA7\n",
      "data:image/gif;base64,R0lGODlhAQABAIAAAAAAAP///yH5BAEAAAAALAAAAAABAAEAAAIBRAA7\n",
      "data:image/gif;base64,R0lGODlhAQABAIAAAAAAAP///yH5BAEAAAAALAAAAAABAAEAAAIBRAA7\n",
      "data:image/gif;base64,R0lGODlhAQABAIAAAAAAAP///yH5BAEAAAAALAAAAAABAAEAAAIBRAA7\n",
      "data:image/gif;base64,R0lGODlhAQABAIAAAAAAAP///yH5BAEAAAAALAAAAAABAAEAAAIBRAA7\n",
      "data:image/gif;base64,R0lGODlhAQABAIAAAAAAAP///yH5BAEAAAAALAAAAAABAAEAAAIBRAA7\n",
      "data:image/gif;base64,R0lGODlhAQABAIAAAAAAAP///yH5BAEAAAAALAAAAAABAAEAAAIBRAA7\n"
     ]
    }
   ],
   "source": [
    "# Creamos un ciclo que nos de las urls de todas las imágenes\n",
    "\n",
    "for imagen in all_house:\n",
    "    print(imagen.find(\"img\")[\"src\"])\n"
   ]
  },
  {
   "cell_type": "markdown",
   "id": "5c9302a8-4ce0-4177-8627-1d95b8ca1c62",
   "metadata": {},
   "source": [
    "No todas las imágenes cargaron debido al Lazy loading"
   ]
  },
  {
   "cell_type": "code",
   "execution_count": 16,
   "id": "fa127caa-9d93-4eaf-ac00-cfcbb1da9433",
   "metadata": {},
   "outputs": [
    {
     "data": {
      "text/plain": [
       "<img alt=\"Departamento en renta\" class=\"ui-search-result-image__element lazy-loadable\" data-src=\"https://http2.mlstatic.com/D_NQ_NP_963814-MLM50047945885_052022-W.webp\" height=\"189\" src=\"data:image/gif;base64,R0lGODlhAQABAIAAAAAAAP///yH5BAEAAAAALAAAAAABAAEAAAIBRAA7\" width=\"284\"/>"
      ]
     },
     "execution_count": 16,
     "metadata": {},
     "output_type": "execute_result"
    }
   ],
   "source": [
    "house_7 = all_house[6].find(\"img\")\n",
    "house_7 "
   ]
  },
  {
   "cell_type": "code",
   "execution_count": 17,
   "id": "908e494e-1d11-4f6b-99bd-45660add4031",
   "metadata": {},
   "outputs": [
    {
     "data": {
      "text/plain": [
       "'data:image/gif;base64,R0lGODlhAQABAIAAAAAAAP///yH5BAEAAAAALAAAAAABAAEAAAIBRAA7'"
      ]
     },
     "execution_count": 17,
     "metadata": {},
     "output_type": "execute_result"
    }
   ],
   "source": [
    "house_7 = all_house[6].find(\"img\")[\"src\"]\n",
    "house_7 "
   ]
  },
  {
   "cell_type": "code",
   "execution_count": 18,
   "id": "2503e3cc-e7a9-4e09-9d54-5df2547f9756",
   "metadata": {},
   "outputs": [
    {
     "data": {
      "text/plain": [
       "'https://http2.mlstatic.com/D_NQ_NP_963814-MLM50047945885_052022-W.webp'"
      ]
     },
     "execution_count": 18,
     "metadata": {},
     "output_type": "execute_result"
    }
   ],
   "source": [
    "house_7 = all_house[6].find(\"img\")[\"data-src\"]\n",
    "house_7 "
   ]
  },
  {
   "cell_type": "code",
   "execution_count": 19,
   "id": "f7e1e973-6aba-449e-9699-40ca06a13e6a",
   "metadata": {},
   "outputs": [
    {
     "data": {
      "text/plain": [
       "'https://http2.mlstatic.com/D_NQ_NP_963814-MLM50047945885_052022-W.webp'"
      ]
     },
     "execution_count": 19,
     "metadata": {},
     "output_type": "execute_result"
    }
   ],
   "source": [
    "try:\n",
    "    house_7 = all_house[6].find(\"img\")[\"data-src\"]\n",
    "    \n",
    "except:\n",
    "    house_7 =  all_house[6].find(\"img\")[\"src\"]\n",
    "    \n",
    "house_7\n",
    "    "
   ]
  },
  {
   "cell_type": "code",
   "execution_count": 20,
   "id": "2e1e228c-74e8-4f7f-872c-c18a40b148dc",
   "metadata": {},
   "outputs": [],
   "source": [
    "img=[]\n",
    "\n",
    "for imagen in all_house:\n",
    "    \n",
    "    try:\n",
    "        #print(imagen.find(\"img\")[\"data-src\"])\n",
    "        img.append(imagen.find(\"img\")[\"data-src\"])\n",
    "    \n",
    "    except:\n",
    "        #print(imagen.find(\"img\")[\"src\"])\n",
    "        img.append(imagen.find(\"img\")[\"src\"])\n",
    "    "
   ]
  },
  {
   "cell_type": "code",
   "execution_count": 21,
   "id": "8ce7e311-7996-4832-a9b3-a2e7b0da43b6",
   "metadata": {},
   "outputs": [
    {
     "data": {
      "text/plain": [
       "48"
      ]
     },
     "execution_count": 21,
     "metadata": {},
     "output_type": "execute_result"
    }
   ],
   "source": [
    "len(img)"
   ]
  },
  {
   "cell_type": "markdown",
   "id": "21b6e8b9-66fc-4ad1-8f9c-160befd39ddb",
   "metadata": {},
   "source": [
    "### Precios"
   ]
  },
  {
   "cell_type": "code",
   "execution_count": 22,
   "id": "cca59816-5008-476a-a141-3dac5b874cc1",
   "metadata": {},
   "outputs": [
    {
     "data": {
      "text/plain": [
       "'20,000'"
      ]
     },
     "execution_count": 22,
     "metadata": {},
     "output_type": "execute_result"
    }
   ],
   "source": [
    "price_raw=all_house[0].find(class_= \"price-tag-fraction\").text\n",
    "price_raw"
   ]
  },
  {
   "cell_type": "code",
   "execution_count": 23,
   "id": "8b919210-1056-4ad7-bcdf-5c0abaa3dae7",
   "metadata": {},
   "outputs": [
    {
     "data": {
      "text/plain": [
       "str"
      ]
     },
     "execution_count": 23,
     "metadata": {},
     "output_type": "execute_result"
    }
   ],
   "source": [
    "type(price_raw)"
   ]
  },
  {
   "cell_type": "code",
   "execution_count": 24,
   "id": "76f6198b-1cdf-4960-8b69-f10bb9712124",
   "metadata": {},
   "outputs": [
    {
     "data": {
      "text/plain": [
       "20000.0"
      ]
     },
     "execution_count": 24,
     "metadata": {},
     "output_type": "execute_result"
    }
   ],
   "source": [
    "# price = float(\"\".join(price_raw.split(\",\")))\n",
    "\n",
    "price=float(price_raw.replace(\",\",\"\"))\n",
    "price"
   ]
  },
  {
   "cell_type": "code",
   "execution_count": 25,
   "id": "3a2363a4-2c5f-4994-b5b8-d6dc1146e99b",
   "metadata": {},
   "outputs": [],
   "source": [
    "precios=[]\n",
    "\n",
    "for item in all_house:\n",
    "    precios_raw = item.find(class_= \"price-tag-fraction\").text\n",
    "    precio = float(precios_raw.replace(\",\",\"\"))\n",
    "\n",
    "    precios.append(precio)"
   ]
  },
  {
   "cell_type": "code",
   "execution_count": 26,
   "id": "dd912180-be58-46ca-ac0f-edb9bdcb24b3",
   "metadata": {},
   "outputs": [
    {
     "data": {
      "text/plain": [
       "48"
      ]
     },
     "execution_count": 26,
     "metadata": {},
     "output_type": "execute_result"
    }
   ],
   "source": [
    "len(precios)"
   ]
  },
  {
   "cell_type": "markdown",
   "id": "63fba99f-91f7-4f94-a810-9f17525b5ce7",
   "metadata": {},
   "source": [
    "### Titulo"
   ]
  },
  {
   "cell_type": "code",
   "execution_count": 27,
   "id": "1e760773-44a4-4987-ade3-cf37227f5010",
   "metadata": {},
   "outputs": [
    {
     "data": {
      "text/plain": [
       "'Súper Ubicado, Moderno, Metrobús, Escuelas, Hospitales.'"
      ]
     },
     "execution_count": 27,
     "metadata": {},
     "output_type": "execute_result"
    }
   ],
   "source": [
    "#<h2 class=\"ui-search-item__title ui-search-item__group__element\">Súper Ubicado, Moderno, Metrobús, Escuelas, Hospitales.</h2>\n",
    "\n",
    "title=all_house[0].find(class_=\"ui-search-item__title ui-search-item__group__element\").text\n",
    "\n",
    "title"
   ]
  },
  {
   "cell_type": "code",
   "execution_count": 28,
   "id": "116e75fa-80bf-42b0-83a4-03396ff39725",
   "metadata": {},
   "outputs": [],
   "source": [
    "titulos = []\n",
    "\n",
    "for item in all_house:\n",
    "    titulo = item.find(class_=\"ui-search-item__title ui-search-item__group__element\").text\n",
    "    titulos.append(titulo)\n",
    "    "
   ]
  },
  {
   "cell_type": "code",
   "execution_count": 29,
   "id": "d210924d-a490-491e-ba5c-3c8b0b09acb5",
   "metadata": {},
   "outputs": [
    {
     "data": {
      "text/plain": [
       "48"
      ]
     },
     "execution_count": 29,
     "metadata": {},
     "output_type": "execute_result"
    }
   ],
   "source": [
    "len(titulos)"
   ]
  },
  {
   "cell_type": "markdown",
   "id": "6602caa7-13e2-4c4f-9e13-baaa191e15d8",
   "metadata": {},
   "source": [
    "### Ubicación"
   ]
  },
  {
   "cell_type": "code",
   "execution_count": 30,
   "id": "587eff2c-f1f8-4eb3-ac1b-eef851910323",
   "metadata": {},
   "outputs": [
    {
     "data": {
      "text/plain": [
       "'Gabriel Mancera, Del Valle Norte, Benito Juárez, Distrito Federal'"
      ]
     },
     "execution_count": 30,
     "metadata": {},
     "output_type": "execute_result"
    }
   ],
   "source": [
    "#<span class=\"ui-search-item__group__element ui-search-item__location\">Gabriel Mancera, Del Valle Norte, Benito Juárez, Distrito Federal</span>\n",
    "\n",
    "address = all_house[0].find(class_=\"ui-search-item__group__element ui-search-item__location\").text\n",
    "\n",
    "address"
   ]
  },
  {
   "cell_type": "markdown",
   "id": "3062715a-66e1-414a-89cd-5809343fc454",
   "metadata": {},
   "source": [
    "Notemos que las direcciones tienen la estructura: calle, colonia, delegación o municipio, estado. "
   ]
  },
  {
   "cell_type": "code",
   "execution_count": 31,
   "id": "8a35b285-0e16-484c-a17d-ddafa65e0b08",
   "metadata": {},
   "outputs": [
    {
     "data": {
      "text/plain": [
       "['Gabriel Mancera', 'Del Valle Norte', 'Benito Juárez', 'Distrito Federal']"
      ]
     },
     "execution_count": 31,
     "metadata": {},
     "output_type": "execute_result"
    }
   ],
   "source": [
    "address.split(\", \")"
   ]
  },
  {
   "cell_type": "code",
   "execution_count": 32,
   "id": "0a12e59b-75f5-4df2-b0ed-c27f743e33ea",
   "metadata": {},
   "outputs": [],
   "source": [
    "direccion = []\n",
    "\n",
    "for item in all_house:\n",
    "    ubi = item.find(class_=\"ui-search-item__group__element ui-search-item__location\").text.split(\", \")\n",
    "    \n",
    "    direccion.append(ubi)\n",
    "        \n",
    "        "
   ]
  },
  {
   "cell_type": "code",
   "execution_count": 33,
   "id": "30975db3-f8f6-4638-9294-5f397f4edc97",
   "metadata": {},
   "outputs": [
    {
     "data": {
      "text/plain": [
       "48"
      ]
     },
     "execution_count": 33,
     "metadata": {},
     "output_type": "execute_result"
    }
   ],
   "source": [
    "len(direccion)"
   ]
  },
  {
   "cell_type": "markdown",
   "id": "30627ca1-567e-4eb9-aaca-f44f1ead6026",
   "metadata": {},
   "source": [
    "### Superficie y recamaras"
   ]
  },
  {
   "cell_type": "markdown",
   "id": "ddd3b8d9-28c8-4374-b3c1-68ecd1d2498c",
   "metadata": {},
   "source": [
    "En este caso tenemos un par de datos asigandos a la misma clase, por lo que nos es más conveniente utilizar find_all que solo find. "
   ]
  },
  {
   "cell_type": "code",
   "execution_count": 34,
   "id": "afd1a573-611a-4aa4-ada8-3f23b08f07d2",
   "metadata": {},
   "outputs": [
    {
     "data": {
      "text/plain": [
       "<li class=\"ui-search-card-attributes__attribute\">119 m² construidos</li>"
      ]
     },
     "execution_count": 34,
     "metadata": {},
     "output_type": "execute_result"
    }
   ],
   "source": [
    "# Aqui no notamos que hay más de un atributo.\n",
    "\n",
    "all_house[0].find(class_=\"ui-search-card-attributes__attribute\")"
   ]
  },
  {
   "cell_type": "code",
   "execution_count": 35,
   "id": "31d1e8d5-c0a3-4d0c-8095-7b1b99d45bea",
   "metadata": {},
   "outputs": [
    {
     "data": {
      "text/plain": [
       "[<li class=\"ui-search-card-attributes__attribute\">119 m² construidos</li>,\n",
       " <li class=\"ui-search-card-attributes__attribute\">3 recs.</li>]"
      ]
     },
     "execution_count": 35,
     "metadata": {},
     "output_type": "execute_result"
    }
   ],
   "source": [
    "# En este caso se muestran ambos.\n",
    "\n",
    "all_house[0].find_all(class_=\"ui-search-card-attributes__attribute\")"
   ]
  },
  {
   "cell_type": "code",
   "execution_count": 36,
   "id": "9a01bb9c-90a9-498f-ba15-472a468f4aeb",
   "metadata": {},
   "outputs": [
    {
     "data": {
      "text/plain": [
       "'119 m² construidos'"
      ]
     },
     "execution_count": 36,
     "metadata": {},
     "output_type": "execute_result"
    }
   ],
   "source": [
    "all_house[0].find_all(class_=\"ui-search-card-attributes__attribute\")[0].text"
   ]
  },
  {
   "cell_type": "code",
   "execution_count": 37,
   "id": "e8704918-8696-4fbc-a31a-11cac0cfc4ca",
   "metadata": {},
   "outputs": [
    {
     "data": {
      "text/plain": [
       "'3 recs.'"
      ]
     },
     "execution_count": 37,
     "metadata": {},
     "output_type": "execute_result"
    }
   ],
   "source": [
    "all_house[0].find_all(class_=\"ui-search-card-attributes__attribute\")[1].text"
   ]
  },
  {
   "cell_type": "code",
   "execution_count": 38,
   "id": "6c07fb65-0ced-46fe-a148-cdd15a40212d",
   "metadata": {},
   "outputs": [],
   "source": [
    "atributos=all_house[0].find_all(class_=\"ui-search-card-attributes__attribute\")"
   ]
  },
  {
   "cell_type": "code",
   "execution_count": 39,
   "id": "0d435156-57af-4a4d-aaca-5c0f7eafd05f",
   "metadata": {},
   "outputs": [
    {
     "data": {
      "text/plain": [
       "2"
      ]
     },
     "execution_count": 39,
     "metadata": {},
     "output_type": "execute_result"
    }
   ],
   "source": [
    "len(atributos)"
   ]
  },
  {
   "cell_type": "code",
   "execution_count": 40,
   "id": "bb7bac55-b3f1-4929-b34d-eb05a99d7d95",
   "metadata": {},
   "outputs": [
    {
     "data": {
      "text/plain": [
       "'119 m² construidos'"
      ]
     },
     "execution_count": 40,
     "metadata": {},
     "output_type": "execute_result"
    }
   ],
   "source": [
    "atributos[0].text"
   ]
  },
  {
   "cell_type": "code",
   "execution_count": 41,
   "id": "10f8279f-88c0-4ac3-8f29-09b470f92051",
   "metadata": {},
   "outputs": [
    {
     "data": {
      "text/plain": [
       "'3 recs.'"
      ]
     },
     "execution_count": 41,
     "metadata": {},
     "output_type": "execute_result"
    }
   ],
   "source": [
    "atributos[1].text"
   ]
  },
  {
   "cell_type": "code",
   "execution_count": 42,
   "id": "97202f04-cc28-4a9d-94ae-cab962d33848",
   "metadata": {},
   "outputs": [
    {
     "name": "stdout",
     "output_type": "stream",
     "text": [
      "0\n"
     ]
    },
    {
     "data": {
      "text/plain": [
       "'\\nif \"Hire\" in \"Hire the top freelancers\":\\n    print(\"Exists\")\\nelse:\\n    print(\"Does not exist\")\\n\\n'"
      ]
     },
     "execution_count": 42,
     "metadata": {},
     "output_type": "execute_result"
    }
   ],
   "source": [
    "superficie = []\n",
    "\n",
    "recamaras = []\n",
    "j=0\n",
    "for item in all_house:\n",
    "    \n",
    "    atributos=item.find_all(class_=\"ui-search-card-attributes__attribute\")\n",
    "    if len(atributos)==2:\n",
    "        superficie.append(atributos[0].text)\n",
    "        recamaras.append(atributos[1].text)\n",
    "    else:\n",
    "        j+=1\n",
    "print(j)\n",
    "\n",
    "\n",
    "\"\"\"\n",
    "if \"Hire\" in \"Hire the top freelancers\":\n",
    "    print(\"Exists\")\n",
    "else:\n",
    "    print(\"Does not exist\")\n",
    "\n",
    "\"\"\""
   ]
  },
  {
   "cell_type": "code",
   "execution_count": 43,
   "id": "3f9af2d7-05ac-46b3-a102-b5b676f7e1ed",
   "metadata": {},
   "outputs": [
    {
     "data": {
      "text/plain": [
       "48"
      ]
     },
     "execution_count": 43,
     "metadata": {},
     "output_type": "execute_result"
    }
   ],
   "source": [
    "len(superficie)"
   ]
  },
  {
   "cell_type": "code",
   "execution_count": 44,
   "id": "ba20d208-c811-48fd-9b7d-65ffa052b54e",
   "metadata": {},
   "outputs": [
    {
     "data": {
      "text/plain": [
       "48"
      ]
     },
     "execution_count": 44,
     "metadata": {},
     "output_type": "execute_result"
    }
   ],
   "source": [
    "len(recamaras)"
   ]
  },
  {
   "cell_type": "markdown",
   "id": "76afa983-290f-4dcd-94d4-29de52b50601",
   "metadata": {},
   "source": [
    "---"
   ]
  },
  {
   "cell_type": "markdown",
   "id": "bd46ea3c-b14f-449c-b385-c2effbff4c8a",
   "metadata": {},
   "source": [
    "### Export csv"
   ]
  },
  {
   "cell_type": "code",
   "execution_count": 45,
   "id": "3ffaff77-e691-42d6-8f3c-a3cc454d3504",
   "metadata": {},
   "outputs": [],
   "source": [
    "df=pd.DataFrame(\n",
    "    \n",
    "        {'titulos': titulos,\n",
    "     'superficie': superficie,\n",
    "     'recamaras': recamaras,\n",
    "     'precio': precios,\n",
    "     'ubicacion': direccion,\n",
    "     'imagen': img,\n",
    "    }\n",
    "    \n",
    ")"
   ]
  },
  {
   "cell_type": "code",
   "execution_count": 46,
   "id": "1b08a2b6-430f-415a-b213-7976d2e4ef62",
   "metadata": {},
   "outputs": [
    {
     "data": {
      "text/html": [
       "<div>\n",
       "<style scoped>\n",
       "    .dataframe tbody tr th:only-of-type {\n",
       "        vertical-align: middle;\n",
       "    }\n",
       "\n",
       "    .dataframe tbody tr th {\n",
       "        vertical-align: top;\n",
       "    }\n",
       "\n",
       "    .dataframe thead th {\n",
       "        text-align: right;\n",
       "    }\n",
       "</style>\n",
       "<table border=\"1\" class=\"dataframe\">\n",
       "  <thead>\n",
       "    <tr style=\"text-align: right;\">\n",
       "      <th></th>\n",
       "      <th>titulos</th>\n",
       "      <th>superficie</th>\n",
       "      <th>recamaras</th>\n",
       "      <th>precio</th>\n",
       "      <th>ubicacion</th>\n",
       "      <th>imagen</th>\n",
       "    </tr>\n",
       "  </thead>\n",
       "  <tbody>\n",
       "    <tr>\n",
       "      <th>0</th>\n",
       "      <td>Súper Ubicado, Moderno, Metrobús, Escuelas, Ho...</td>\n",
       "      <td>119 m² construidos</td>\n",
       "      <td>3 recs.</td>\n",
       "      <td>20000.0</td>\n",
       "      <td>[Gabriel Mancera, Del Valle Norte, Benito Juár...</td>\n",
       "      <td>https://http2.mlstatic.com/D_NQ_NP_866287-MLM4...</td>\n",
       "    </tr>\n",
       "    <tr>\n",
       "      <th>1</th>\n",
       "      <td>Departamento Amueblado En Zakia Residencial, Q...</td>\n",
       "      <td>120 m² construidos</td>\n",
       "      <td>3 recs.</td>\n",
       "      <td>14800.0</td>\n",
       "      <td>[Paseo De Zinnia 201, Zákia, El Marqués, Queré...</td>\n",
       "      <td>https://http2.mlstatic.com/D_NQ_NP_693487-MLM4...</td>\n",
       "    </tr>\n",
       "    <tr>\n",
       "      <th>2</th>\n",
       "      <td>Hermoso Departamento En Renta Amueblado En  Ag...</td>\n",
       "      <td>73 m² construidos</td>\n",
       "      <td>2 recs.</td>\n",
       "      <td>27000.0</td>\n",
       "      <td>[Av. Insurgentes Sur, Loreto, Alvaro Obregón, ...</td>\n",
       "      <td>https://http2.mlstatic.com/D_NQ_NP_891309-MLM4...</td>\n",
       "    </tr>\n",
       "    <tr>\n",
       "      <th>3</th>\n",
       "      <td>Confortable Departamento Con Privacidad Y Exce...</td>\n",
       "      <td>61 m² construidos</td>\n",
       "      <td>2 recs.</td>\n",
       "      <td>11400.0</td>\n",
       "      <td>[Rafael Martínez Rip Rip, Independencia, Benit...</td>\n",
       "      <td>https://http2.mlstatic.com/D_NQ_NP_799707-MLM4...</td>\n",
       "    </tr>\n",
       "    <tr>\n",
       "      <th>4</th>\n",
       "      <td>Departamento En Renta Coyoacán Col. Parque San...</td>\n",
       "      <td>52 m² construidos</td>\n",
       "      <td>2 recs.</td>\n",
       "      <td>13000.0</td>\n",
       "      <td>[Carreteraco, Parque San Andrés, Coyoacán, Dis...</td>\n",
       "      <td>https://http2.mlstatic.com/D_NQ_NP_649773-MLM4...</td>\n",
       "    </tr>\n",
       "  </tbody>\n",
       "</table>\n",
       "</div>"
      ],
      "text/plain": [
       "                                             titulos          superficie  \\\n",
       "0  Súper Ubicado, Moderno, Metrobús, Escuelas, Ho...  119 m² construidos   \n",
       "1  Departamento Amueblado En Zakia Residencial, Q...  120 m² construidos   \n",
       "2  Hermoso Departamento En Renta Amueblado En  Ag...   73 m² construidos   \n",
       "3  Confortable Departamento Con Privacidad Y Exce...   61 m² construidos   \n",
       "4  Departamento En Renta Coyoacán Col. Parque San...   52 m² construidos   \n",
       "\n",
       "  recamaras   precio                                          ubicacion  \\\n",
       "0   3 recs.  20000.0  [Gabriel Mancera, Del Valle Norte, Benito Juár...   \n",
       "1   3 recs.  14800.0  [Paseo De Zinnia 201, Zákia, El Marqués, Queré...   \n",
       "2   2 recs.  27000.0  [Av. Insurgentes Sur, Loreto, Alvaro Obregón, ...   \n",
       "3   2 recs.  11400.0  [Rafael Martínez Rip Rip, Independencia, Benit...   \n",
       "4   2 recs.  13000.0  [Carreteraco, Parque San Andrés, Coyoacán, Dis...   \n",
       "\n",
       "                                              imagen  \n",
       "0  https://http2.mlstatic.com/D_NQ_NP_866287-MLM4...  \n",
       "1  https://http2.mlstatic.com/D_NQ_NP_693487-MLM4...  \n",
       "2  https://http2.mlstatic.com/D_NQ_NP_891309-MLM4...  \n",
       "3  https://http2.mlstatic.com/D_NQ_NP_799707-MLM4...  \n",
       "4  https://http2.mlstatic.com/D_NQ_NP_649773-MLM4...  "
      ]
     },
     "execution_count": 46,
     "metadata": {},
     "output_type": "execute_result"
    }
   ],
   "source": [
    "df.head()"
   ]
  },
  {
   "cell_type": "code",
   "execution_count": 47,
   "id": "38375d7a-7a29-44ef-9dde-dc227c4b1074",
   "metadata": {},
   "outputs": [],
   "source": [
    "df.to_csv(\"deptos_mercado_libre.csv\")"
   ]
  },
  {
   "cell_type": "markdown",
   "id": "97ab7aff-5e6a-45e1-b1c8-e486e14109a7",
   "metadata": {},
   "source": [
    "---"
   ]
  },
  {
   "cell_type": "markdown",
   "id": "49664a33-61db-44e4-8c1a-939e442da67a",
   "metadata": {},
   "source": [
    "###  Automatización"
   ]
  },
  {
   "cell_type": "code",
   "execution_count": 50,
   "id": "1a89270e-4d9b-4f23-a1c4-5f69e71ef9d1",
   "metadata": {},
   "outputs": [],
   "source": [
    "from selenium.webdriver.common.keys import Keys\n",
    "import zipfile\n",
    "import os\n",
    "import time"
   ]
  },
  {
   "cell_type": "code",
   "execution_count": 51,
   "id": "5e00892f-746c-481f-8d73-0b4bfb57c9ad",
   "metadata": {},
   "outputs": [],
   "source": [
    "#funciones\n",
    "\n",
    "from subrutina import get_all\n",
    "from subrutina import get_img\n",
    "from subrutina import get_precios\n",
    "from subrutina import get_rec\n",
    "from subrutina import get_sup\n",
    "from subrutina import get_ubicacion\n",
    "from subrutina import get_titulos"
   ]
  },
  {
   "cell_type": "code",
   "execution_count": 52,
   "id": "ad9e5e8a-74d9-4dc9-be30-00d4fc21df53",
   "metadata": {},
   "outputs": [
    {
     "name": "stderr",
     "output_type": "stream",
     "text": [
      "/tmp/ipykernel_55362/108995418.py:12: DeprecationWarning: find_element_by_xpath is deprecated. Please use find_element(by=By.XPATH, value=xpath) instead\n",
      "  nextpage = driver.find_element_by_xpath(\"/html/body/main/div/div/section/div[5]/ul/li[3]/a/span[1]\")\n",
      "/tmp/ipykernel_55362/108995418.py:36: DeprecationWarning: find_element_by_xpath is deprecated. Please use find_element(by=By.XPATH, value=xpath) instead\n",
      "  nextpage = driver.find_element_by_xpath(\"/html/body/main/div/div/section/div[5]/ul/li[4]/a/span[1]\")\n"
     ]
    }
   ],
   "source": [
    "    \n",
    "url_img=[]\n",
    "precios=[]\n",
    "recamaras=[]\n",
    "superficie=[]\n",
    "ubicacion=[]\n",
    "titulos=[]    \n",
    "\n",
    "for i in range(23):\n",
    "\n",
    "    try: \n",
    "        time.sleep(2)\n",
    "        nextpage = driver.find_element_by_xpath(\"/html/body/main/div/div/section/div[5]/ul/li[3]/a/span[1]\")\n",
    "        nextpage.click()\n",
    "        \n",
    "        img=get_img(all_house)\n",
    "        url_img.append(img)\n",
    "        \n",
    "        pre=get_precios(all_house)\n",
    "        precios.append(pre)\n",
    "        \n",
    "        re=get_rec(all_house)\n",
    "        recamaras.append(re)\n",
    "        \n",
    "        sup=get_sup(all_house)\n",
    "        superficie.append(sup)\n",
    "        \n",
    "        ubi=get_ubicacion(all_house)\n",
    "        ubicacion.append(ubi)\n",
    "        \n",
    "        titu=get_titulos(all_house)\n",
    "        titulos.append(titu)\n",
    "        \n",
    "        \n",
    "    except:\n",
    "        time.sleep(2)\n",
    "        nextpage = driver.find_element_by_xpath(\"/html/body/main/div/div/section/div[5]/ul/li[4]/a/span[1]\")\n",
    "        nextpage.click()\n",
    "\n",
    "\n",
    "        img=get_img(all_house)\n",
    "        url_img.append(img)\n",
    "        \n",
    "        pre=get_precios(all_house)\n",
    "        precios.append(pre)\n",
    "        \n",
    "        re=get_rec(all_house)\n",
    "        recamaras.append(re)\n",
    "        \n",
    "        sup=get_sup(all_house)\n",
    "        superficie.append(sup)\n",
    "        \n",
    "        ubi=get_ubicacion(all_house)\n",
    "        ubicacion.append(ubi)\n",
    "        \n",
    "        titu=get_titulos(all_house)\n",
    "        titulos.append(titu)\n",
    "    \n",
    "    \n",
    "    \n",
    "#url_img=get_img(all_house)\n",
    "#precios=get_precios(all_house)\n",
    "#recamaras=get_rec(all_house)\n",
    "#superficie=get_sup(all_house)\n",
    "#ubicacion=get_ubicacion(all_house)\n",
    "#titulos=get_titulos(all_house)"
   ]
  },
  {
   "cell_type": "code",
   "execution_count": 53,
   "id": "088f5db1-6177-4866-9dc9-7379e6cd7407",
   "metadata": {},
   "outputs": [],
   "source": [
    "import itertools\n",
    "\n",
    "precios = list(itertools.chain(*precios))\n",
    "url_img = list(itertools.chain(*url_img))\n",
    "recamaras = list(itertools.chain(*recamaras))\n",
    "superficie = list(itertools.chain(*superficie))\n",
    "ubicacion = list(itertools.chain(*ubicacion))\n",
    "titulos = list(itertools.chain(*titulos))"
   ]
  },
  {
   "cell_type": "code",
   "execution_count": 54,
   "id": "d57e660d-3b5b-4b7e-bbfa-45ffc560e607",
   "metadata": {},
   "outputs": [
    {
     "data": {
      "text/html": [
       "<div>\n",
       "<style scoped>\n",
       "    .dataframe tbody tr th:only-of-type {\n",
       "        vertical-align: middle;\n",
       "    }\n",
       "\n",
       "    .dataframe tbody tr th {\n",
       "        vertical-align: top;\n",
       "    }\n",
       "\n",
       "    .dataframe thead th {\n",
       "        text-align: right;\n",
       "    }\n",
       "</style>\n",
       "<table border=\"1\" class=\"dataframe\">\n",
       "  <thead>\n",
       "    <tr style=\"text-align: right;\">\n",
       "      <th></th>\n",
       "      <th>titulos</th>\n",
       "      <th>superficie</th>\n",
       "      <th>recamaras</th>\n",
       "      <th>precio</th>\n",
       "      <th>ubicacion</th>\n",
       "      <th>imagen</th>\n",
       "    </tr>\n",
       "  </thead>\n",
       "  <tbody>\n",
       "    <tr>\n",
       "      <th>0</th>\n",
       "      <td>Súper Ubicado, Moderno, Metrobús, Escuelas, Ho...</td>\n",
       "      <td>119 m² construidos</td>\n",
       "      <td>3 recs.</td>\n",
       "      <td>20000.0</td>\n",
       "      <td>[Gabriel Mancera, Del Valle Norte, Benito Juár...</td>\n",
       "      <td>https://http2.mlstatic.com/D_NQ_NP_866287-MLM4...</td>\n",
       "    </tr>\n",
       "    <tr>\n",
       "      <th>1</th>\n",
       "      <td>Departamento Amueblado En Zakia Residencial, Q...</td>\n",
       "      <td>120 m² construidos</td>\n",
       "      <td>3 recs.</td>\n",
       "      <td>14800.0</td>\n",
       "      <td>[Paseo De Zinnia 201, Zákia, El Marqués, Queré...</td>\n",
       "      <td>https://http2.mlstatic.com/D_NQ_NP_693487-MLM4...</td>\n",
       "    </tr>\n",
       "    <tr>\n",
       "      <th>2</th>\n",
       "      <td>Hermoso Departamento En Renta Amueblado En  Ag...</td>\n",
       "      <td>73 m² construidos</td>\n",
       "      <td>2 recs.</td>\n",
       "      <td>27000.0</td>\n",
       "      <td>[Av. Insurgentes Sur, Loreto, Alvaro Obregón, ...</td>\n",
       "      <td>https://http2.mlstatic.com/D_NQ_NP_891309-MLM4...</td>\n",
       "    </tr>\n",
       "    <tr>\n",
       "      <th>3</th>\n",
       "      <td>Confortable Departamento Con Privacidad Y Exce...</td>\n",
       "      <td>61 m² construidos</td>\n",
       "      <td>2 recs.</td>\n",
       "      <td>11400.0</td>\n",
       "      <td>[Rafael Martínez Rip Rip, Independencia, Benit...</td>\n",
       "      <td>https://http2.mlstatic.com/D_NQ_NP_799707-MLM4...</td>\n",
       "    </tr>\n",
       "    <tr>\n",
       "      <th>4</th>\n",
       "      <td>Departamento En Renta Coyoacán Col. Parque San...</td>\n",
       "      <td>52 m² construidos</td>\n",
       "      <td>2 recs.</td>\n",
       "      <td>13000.0</td>\n",
       "      <td>[Carreteraco, Parque San Andrés, Coyoacán, Dis...</td>\n",
       "      <td>https://http2.mlstatic.com/D_NQ_NP_649773-MLM4...</td>\n",
       "    </tr>\n",
       "  </tbody>\n",
       "</table>\n",
       "</div>"
      ],
      "text/plain": [
       "                                             titulos          superficie  \\\n",
       "0  Súper Ubicado, Moderno, Metrobús, Escuelas, Ho...  119 m² construidos   \n",
       "1  Departamento Amueblado En Zakia Residencial, Q...  120 m² construidos   \n",
       "2  Hermoso Departamento En Renta Amueblado En  Ag...   73 m² construidos   \n",
       "3  Confortable Departamento Con Privacidad Y Exce...   61 m² construidos   \n",
       "4  Departamento En Renta Coyoacán Col. Parque San...   52 m² construidos   \n",
       "\n",
       "  recamaras   precio                                          ubicacion  \\\n",
       "0   3 recs.  20000.0  [Gabriel Mancera, Del Valle Norte, Benito Juár...   \n",
       "1   3 recs.  14800.0  [Paseo De Zinnia 201, Zákia, El Marqués, Queré...   \n",
       "2   2 recs.  27000.0  [Av. Insurgentes Sur, Loreto, Alvaro Obregón, ...   \n",
       "3   2 recs.  11400.0  [Rafael Martínez Rip Rip, Independencia, Benit...   \n",
       "4   2 recs.  13000.0  [Carreteraco, Parque San Andrés, Coyoacán, Dis...   \n",
       "\n",
       "                                              imagen  \n",
       "0  https://http2.mlstatic.com/D_NQ_NP_866287-MLM4...  \n",
       "1  https://http2.mlstatic.com/D_NQ_NP_693487-MLM4...  \n",
       "2  https://http2.mlstatic.com/D_NQ_NP_891309-MLM4...  \n",
       "3  https://http2.mlstatic.com/D_NQ_NP_799707-MLM4...  \n",
       "4  https://http2.mlstatic.com/D_NQ_NP_649773-MLM4...  "
      ]
     },
     "execution_count": 54,
     "metadata": {},
     "output_type": "execute_result"
    }
   ],
   "source": [
    "df=pd.DataFrame(\n",
    "    \n",
    "        {'titulos': titulos,\n",
    "     'superficie': superficie,\n",
    "     'recamaras': recamaras,\n",
    "     'precio': precios,\n",
    "     'ubicacion': ubicacion,\n",
    "     'imagen': url_img,\n",
    "    }\n",
    "    \n",
    ")\n",
    "\n",
    "df.head()"
   ]
  },
  {
   "cell_type": "code",
   "execution_count": 55,
   "id": "6c0d3e79-15f3-4c87-86d8-39554de5127e",
   "metadata": {},
   "outputs": [
    {
     "data": {
      "text/plain": [
       "(1104, 6)"
      ]
     },
     "execution_count": 55,
     "metadata": {},
     "output_type": "execute_result"
    }
   ],
   "source": [
    "df.shape"
   ]
  },
  {
   "cell_type": "code",
   "execution_count": 56,
   "id": "b1570caa-87b9-4941-a76e-60dbac9714dd",
   "metadata": {},
   "outputs": [],
   "source": [
    "df.to_csv(\"deptos_mercado_libre_full.csv\")"
   ]
  },
  {
   "cell_type": "markdown",
   "id": "e76bf795-2fa8-4b4d-91c8-5b3a6cf5216e",
   "metadata": {},
   "source": [
    "---"
   ]
  },
  {
   "cell_type": "markdown",
   "id": "89e4c80b-96c6-48fa-8307-55b5518d53d8",
   "metadata": {},
   "source": [
    "### Portapapeles"
   ]
  },
  {
   "cell_type": "code",
   "execution_count": null,
   "id": "f0332e56-c510-41f8-a09c-cc897c31ef9f",
   "metadata": {},
   "outputs": [],
   "source": [
    "a=[\"a\",\"b\",\"c\",\"d\",\"e\",\"f\",\"g\"]\n",
    "\n",
    "\n",
    "a[0:len(a)-3] = [' '.join(a[0:len(a)-3])]\n",
    "\n",
    "a"
   ]
  },
  {
   "cell_type": "code",
   "execution_count": null,
   "id": "0fb14737-94e9-4dd0-8cc2-eb6313e869a3",
   "metadata": {},
   "outputs": [],
   "source": [
    "from functools import reduce\n",
    "\n",
    "a=[\"a\",\"b\",\"c\",\"d\",\"e\"]\n",
    "\n",
    "\n",
    "a[0 : 2] = [reduce(lambda i, j: i + j, a[0 : 2])]\n",
    "\n",
    "a"
   ]
  },
  {
   "cell_type": "code",
   "execution_count": null,
   "id": "9fe89bd7-5de5-4d06-aef6-b26d001b9335",
   "metadata": {},
   "outputs": [],
   "source": [
    "fruits = \"['apple', 'orange', 'banana']\"\n",
    "import ast\n",
    "fruits = ast.literal_eval(fruits)\n",
    "fruits"
   ]
  }
 ],
 "metadata": {
  "kernelspec": {
   "display_name": "Python 3 (ipykernel)",
   "language": "python",
   "name": "python3"
  },
  "language_info": {
   "codemirror_mode": {
    "name": "ipython",
    "version": 3
   },
   "file_extension": ".py",
   "mimetype": "text/x-python",
   "name": "python",
   "nbconvert_exporter": "python",
   "pygments_lexer": "ipython3",
   "version": "3.9.11"
  }
 },
 "nbformat": 4,
 "nbformat_minor": 5
}
